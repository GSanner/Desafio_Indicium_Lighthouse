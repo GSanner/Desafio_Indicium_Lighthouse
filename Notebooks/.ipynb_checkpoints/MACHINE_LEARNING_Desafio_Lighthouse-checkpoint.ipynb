{
 "cells": [
  {
   "cell_type": "markdown",
   "id": "8df74197",
   "metadata": {},
   "source": [
    "#  <a> Projeto: Desafio Cientista de Dados (Lighthouse)</a>\n",
    "\n",
    "## Motivação\n",
    "\n",
    "Testar meus conhecimentos sobre a resolução de problemas de negócios, análise de dados e aplicação de modelos preditivos, por meio de um desafio feito pela INDICIUM\n",
    "\n",
    "## O desafio:\n",
    "\n",
    "“Você foi alocado(a) em um time da Indicium que está trabalhando atualmente junto a um cliente que o core business é compra e venda de veículos usados. Essa empresa está com dificuldades na área de revenda dos automóveis usados em seu catálogo.\n",
    "Para resolver esse problema, a empresa comprou uma base de dados de um marketplace de compra e venda para entender melhor o mercado nacional, de forma a conseguir precificar o seu catálogo de forma mais competitiva e assim recuperar o mau desempenho neste setor.\n",
    "Seu objetivo é analisar os dados para responder às perguntas de negócios feitas pelo cliente e criar um modelo preditivo que precifique os carros do cliente de forma que eles fiquem o mais próximos dos valores de mercado.”\n",
    "\n",
    "## Objetivo\n",
    "\n",
    "Sendo assim, neste relatório, vamos explorar as variáveis mais relevantes da base de dados, solucionar as questões de negócio propostas pelo desafio, formular e testar três hipóteses de negócio adicionais, além de explicar e criar um modelo preditivo capaz de precificar os carros do cliente de forma que eles fiquem o mais próximos dos valores de mercado."
   ]
  },
  {
   "cell_type": "markdown",
   "id": "b9bfa998",
   "metadata": {},
   "source": [
    "# Notebook: MACHINE_LEARNING_Desafio_Lighthouse\n",
    "\n",
    "Neste notebook, você encontrará todo o processo de pré-processamento, modelagem de dados e a seleção do melhor modelo para o treinamento de nossos modelos preditivos. Além disso, realizaremos uma previsão na base de teste para avaliar o desempenho e determinar o quão eficaz nosso modelo se tornou.\n",
    "\n",
    "### Tópicos\n",
    "\n",
    "- [1. Importando Bibliotecas e Configurando Pandas](#1.)\n",
    "- [2. Leitura e Exploração dos Dados](#2.)\n",
    "    - [2.1. Leitura e Exploração](#2.1.)\n",
    "    - [2.2. Dicionário de Dados](#2.1.)\n",
    "- [3. Processamento dos Dados](#3.)\n",
    "    - [3.1. Criando nova variável](#3.1.)\n",
    "    - [3.2. Removendo Algumas Variáveis](#3.2.)\n",
    "    - [3.3. Tratando Outliers](#3.3.)\n",
    "    - [3.4. Codificação de Variáveis Categóricas](#3.4.)\n",
    "        - [3.4.1. Label Encoding](#3.4.1.)\n",
    "        - [3.4.2. Mapeamento](#3.4.2.)\n",
    "        - [3.4.3. Codificando Demais Variáveis](#3.4.3.)\n",
    "        - [3.4.4. Dados Faltantes](#3.4.4.)\n",
    "    - [3.5. Determinandovariáveis preditoras e variável target](#3.5.)\n",
    "- [4. Separação de Bases](#4.)\n",
    "- [5. Feature Scaling](#5.)\n",
    "- [6. Analisando a Correlação Entre as Variáveis](#6.)\n",
    "- [7. PYCARET](#7.)\n",
    "- [8. Machine Learning](#8.)\n",
    "    - [8.1. Regressão Linear](#8.1.)\n",
    "    - [8.2. LGBM](#8.2.)\n",
    "    - [8.3. XGboost](#8.3.)\n",
    "    - [8.4. Random Forest](#8.4.)\n",
    "- [9. Removendo Algumas Variaveis](#9.)\n",
    "    - [9.1. LGBM Novamente](#9.1.)\n",
    "- [10. Modelo Campeão](#10.)\n",
    "    - [10.1. Fit](#10.1.)\n",
    "    - [10.2. Predict](#10.2.)\n",
    "- [11. Considerações Finais](#11.)"
   ]
  },
  {
   "cell_type": "markdown",
   "id": "08c23ec6",
   "metadata": {},
   "source": [
    "## <a id='1.'></a>1. Importando Bibliotecas e Configurando Pandas"
   ]
  },
  {
   "cell_type": "code",
   "execution_count": 1,
   "id": "1d795abd",
   "metadata": {},
   "outputs": [],
   "source": [
    "# importando as bibliotecas:\n",
    "import pandas as pd\n",
    "from matplotlib import pyplot as plt\n",
    "import numpy as np\n",
    "import seaborn as sns\n",
    "import plotly.express as px\n",
    "import plotly.graph_objects as go"
   ]
  },
  {
   "cell_type": "code",
   "execution_count": 2,
   "id": "f7c17044",
   "metadata": {},
   "outputs": [],
   "source": [
    "# configurando pandas para monstrar todas as Linhas e Colunas\n",
    "pd.set_option('display.max_rows', None)\n",
    "pd.set_option('display.max_columns', None)\n",
    "\n",
    "# configurando pandas para não mostrar notação científica para números\n",
    "pd.set_option('display.float_format', lambda x: '%.2f' % x)\n",
    "\n",
    "# configurando pandas para ignorar avisos\n",
    "import warnings\n",
    "warnings.filterwarnings('ignore')"
   ]
  },
  {
   "cell_type": "markdown",
   "id": "c95f0141",
   "metadata": {},
   "source": [
    "## <a id='2.'></a>2. Leitura e Exploração dos Dados\n",
    "### <a id='2.1.'></a>2.1. Leitura e Exploração"
   ]
  },
  {
   "cell_type": "code",
   "execution_count": 3,
   "id": "d8b242b7",
   "metadata": {},
   "outputs": [
    {
     "data": {
      "text/html": [
       "<div>\n",
       "<style scoped>\n",
       "    .dataframe tbody tr th:only-of-type {\n",
       "        vertical-align: middle;\n",
       "    }\n",
       "\n",
       "    .dataframe tbody tr th {\n",
       "        vertical-align: top;\n",
       "    }\n",
       "\n",
       "    .dataframe thead th {\n",
       "        text-align: right;\n",
       "    }\n",
       "</style>\n",
       "<table border=\"1\" class=\"dataframe\">\n",
       "  <thead>\n",
       "    <tr style=\"text-align: right;\">\n",
       "      <th></th>\n",
       "      <th>marca</th>\n",
       "      <th>modelo</th>\n",
       "      <th>versao</th>\n",
       "      <th>ano_de_fabricacao</th>\n",
       "      <th>hodometro</th>\n",
       "      <th>cambio</th>\n",
       "      <th>num_portas</th>\n",
       "      <th>tipo</th>\n",
       "      <th>cor</th>\n",
       "      <th>estado_vendedor</th>\n",
       "      <th>veiculo_único_dono</th>\n",
       "      <th>ipva_pago</th>\n",
       "      <th>veiculo_licenciado</th>\n",
       "      <th>garantia_de_fábrica</th>\n",
       "      <th>preco</th>\n",
       "    </tr>\n",
       "  </thead>\n",
       "  <tbody>\n",
       "    <tr>\n",
       "      <th>0</th>\n",
       "      <td>NISSAN</td>\n",
       "      <td>KICKS</td>\n",
       "      <td>1.6 16V FLEXSTART SL 4P XTRONIC</td>\n",
       "      <td>2017</td>\n",
       "      <td>67772.00</td>\n",
       "      <td>CVT</td>\n",
       "      <td>4</td>\n",
       "      <td>Sedã</td>\n",
       "      <td>Branco</td>\n",
       "      <td>São Paulo (SP)</td>\n",
       "      <td>Mais de um dono</td>\n",
       "      <td>IPVA pago</td>\n",
       "      <td>Licenciado</td>\n",
       "      <td>Sem garantia</td>\n",
       "      <td>74732.59</td>\n",
       "    </tr>\n",
       "    <tr>\n",
       "      <th>1</th>\n",
       "      <td>JEEP</td>\n",
       "      <td>COMPASS</td>\n",
       "      <td>2.0 16V FLEX LIMITED AUTOMÁTICO</td>\n",
       "      <td>2017</td>\n",
       "      <td>62979.00</td>\n",
       "      <td>Automática</td>\n",
       "      <td>4</td>\n",
       "      <td>Sedã</td>\n",
       "      <td>Branco</td>\n",
       "      <td>Minas Gerais (MG)</td>\n",
       "      <td>Mais de um dono</td>\n",
       "      <td>IPVA pago</td>\n",
       "      <td>Não Licenciado</td>\n",
       "      <td>Sem garantia</td>\n",
       "      <td>81965.33</td>\n",
       "    </tr>\n",
       "    <tr>\n",
       "      <th>2</th>\n",
       "      <td>KIA</td>\n",
       "      <td>SORENTO</td>\n",
       "      <td>2.4 16V GASOLINA EX 7L AWD AUTOMÁTICO</td>\n",
       "      <td>2018</td>\n",
       "      <td>44070.00</td>\n",
       "      <td>Automática</td>\n",
       "      <td>4</td>\n",
       "      <td>Sedã</td>\n",
       "      <td>Preto</td>\n",
       "      <td>São Paulo (SP)</td>\n",
       "      <td>Mais de um dono</td>\n",
       "      <td>IPVA não pago</td>\n",
       "      <td>Não Licenciado</td>\n",
       "      <td>Sem garantia</td>\n",
       "      <td>162824.81</td>\n",
       "    </tr>\n",
       "    <tr>\n",
       "      <th>3</th>\n",
       "      <td>VOLKSWAGEN</td>\n",
       "      <td>AMAROK</td>\n",
       "      <td>2.0 HIGHLINE 4X4 CD 16V TURBO INTERCOOLER DIES...</td>\n",
       "      <td>2013</td>\n",
       "      <td>85357.00</td>\n",
       "      <td>Automática</td>\n",
       "      <td>4</td>\n",
       "      <td>Picape</td>\n",
       "      <td>Branco</td>\n",
       "      <td>São Paulo (SP)</td>\n",
       "      <td>Mais de um dono</td>\n",
       "      <td>IPVA pago</td>\n",
       "      <td>Licenciado</td>\n",
       "      <td>Sem garantia</td>\n",
       "      <td>123681.36</td>\n",
       "    </tr>\n",
       "    <tr>\n",
       "      <th>4</th>\n",
       "      <td>SSANGYONG</td>\n",
       "      <td>KORANDO</td>\n",
       "      <td>2.0 GLS 4X4 16V TURBO DIESEL 4P AUTOMÁTICO</td>\n",
       "      <td>2013</td>\n",
       "      <td>71491.00</td>\n",
       "      <td>Automática</td>\n",
       "      <td>4</td>\n",
       "      <td>Utilitário esportivo</td>\n",
       "      <td>Preto</td>\n",
       "      <td>Rio de Janeiro (RJ)</td>\n",
       "      <td>Mais de um dono</td>\n",
       "      <td>IPVA não pago</td>\n",
       "      <td>Não Licenciado</td>\n",
       "      <td>Garantia de fábrica</td>\n",
       "      <td>82419.76</td>\n",
       "    </tr>\n",
       "  </tbody>\n",
       "</table>\n",
       "</div>"
      ],
      "text/plain": [
       "        marca   modelo                                             versao  \\\n",
       "0      NISSAN    KICKS                    1.6 16V FLEXSTART SL 4P XTRONIC   \n",
       "1        JEEP  COMPASS                    2.0 16V FLEX LIMITED AUTOMÁTICO   \n",
       "2         KIA  SORENTO              2.4 16V GASOLINA EX 7L AWD AUTOMÁTICO   \n",
       "3  VOLKSWAGEN   AMAROK  2.0 HIGHLINE 4X4 CD 16V TURBO INTERCOOLER DIES...   \n",
       "4   SSANGYONG  KORANDO         2.0 GLS 4X4 16V TURBO DIESEL 4P AUTOMÁTICO   \n",
       "\n",
       "   ano_de_fabricacao  hodometro      cambio  num_portas                  tipo  \\\n",
       "0               2017   67772.00         CVT           4                  Sedã   \n",
       "1               2017   62979.00  Automática           4                  Sedã   \n",
       "2               2018   44070.00  Automática           4                  Sedã   \n",
       "3               2013   85357.00  Automática           4                Picape   \n",
       "4               2013   71491.00  Automática           4  Utilitário esportivo   \n",
       "\n",
       "      cor      estado_vendedor veiculo_único_dono      ipva_pago  \\\n",
       "0  Branco       São Paulo (SP)    Mais de um dono      IPVA pago   \n",
       "1  Branco    Minas Gerais (MG)    Mais de um dono      IPVA pago   \n",
       "2   Preto       São Paulo (SP)    Mais de um dono  IPVA não pago   \n",
       "3  Branco       São Paulo (SP)    Mais de um dono      IPVA pago   \n",
       "4   Preto  Rio de Janeiro (RJ)    Mais de um dono  IPVA não pago   \n",
       "\n",
       "  veiculo_licenciado  garantia_de_fábrica     preco  \n",
       "0         Licenciado         Sem garantia  74732.59  \n",
       "1     Não Licenciado         Sem garantia  81965.33  \n",
       "2     Não Licenciado         Sem garantia 162824.81  \n",
       "3         Licenciado         Sem garantia 123681.36  \n",
       "4     Não Licenciado  Garantia de fábrica  82419.76  "
      ]
     },
     "execution_count": 3,
     "metadata": {},
     "output_type": "execute_result"
    }
   ],
   "source": [
    "# importando os dados csv:\n",
    "df_cars = pd.read_csv(\"G:/Meu Drive/Ciência de Dados/PROJETOS/Indicium_Lighthouse/Data/df_cars_train.csv\")\n",
    "df_cars.head()"
   ]
  },
  {
   "cell_type": "code",
   "execution_count": 4,
   "id": "e080b153",
   "metadata": {},
   "outputs": [
    {
     "data": {
      "text/plain": [
       "marca                  0\n",
       "modelo                 0\n",
       "versao                 0\n",
       "ano_de_fabricacao      0\n",
       "hodometro              0\n",
       "cambio                 0\n",
       "num_portas             0\n",
       "tipo                   0\n",
       "cor                    0\n",
       "estado_vendedor        0\n",
       "veiculo_único_dono     0\n",
       "ipva_pago              0\n",
       "veiculo_licenciado     0\n",
       "garantia_de_fábrica    0\n",
       "preco                  0\n",
       "dtype: int64"
      ]
     },
     "execution_count": 4,
     "metadata": {},
     "output_type": "execute_result"
    }
   ],
   "source": [
    "# Verificando campos nulos\n",
    "df_cars.isnull().sum()"
   ]
  },
  {
   "cell_type": "code",
   "execution_count": 5,
   "id": "3278485c",
   "metadata": {},
   "outputs": [
    {
     "data": {
      "text/plain": [
       "marca                     40\n",
       "modelo                   457\n",
       "versao                  1916\n",
       "ano_de_fabricacao         35\n",
       "hodometro              26004\n",
       "cambio                     7\n",
       "num_portas                 3\n",
       "tipo                       7\n",
       "cor                        7\n",
       "estado_vendedor           25\n",
       "veiculo_único_dono         2\n",
       "ipva_pago                  2\n",
       "veiculo_licenciado         2\n",
       "garantia_de_fábrica        2\n",
       "preco                  29584\n",
       "dtype: int64"
      ]
     },
     "execution_count": 5,
     "metadata": {},
     "output_type": "execute_result"
    }
   ],
   "source": [
    "# Verificando valores únicos\n",
    "df_cars.nunique()"
   ]
  },
  {
   "cell_type": "code",
   "execution_count": 6,
   "id": "c6d0b87b",
   "metadata": {},
   "outputs": [
    {
     "data": {
      "text/plain": [
       "(29584, 15)"
      ]
     },
     "execution_count": 6,
     "metadata": {},
     "output_type": "execute_result"
    }
   ],
   "source": [
    "# Avaliando a quantidade de linhas e colunas:\n",
    "df_cars.shape"
   ]
  },
  {
   "cell_type": "code",
   "execution_count": 7,
   "id": "59c9523b",
   "metadata": {},
   "outputs": [
    {
     "name": "stdout",
     "output_type": "stream",
     "text": [
      "<class 'pandas.core.frame.DataFrame'>\n",
      "RangeIndex: 29584 entries, 0 to 29583\n",
      "Data columns (total 15 columns):\n",
      " #   Column               Non-Null Count  Dtype  \n",
      "---  ------               --------------  -----  \n",
      " 0   marca                29584 non-null  object \n",
      " 1   modelo               29584 non-null  object \n",
      " 2   versao               29584 non-null  object \n",
      " 3   ano_de_fabricacao    29584 non-null  int64  \n",
      " 4   hodometro            29584 non-null  float64\n",
      " 5   cambio               29584 non-null  object \n",
      " 6   num_portas           29584 non-null  int64  \n",
      " 7   tipo                 29584 non-null  object \n",
      " 8   cor                  29584 non-null  object \n",
      " 9   estado_vendedor      29584 non-null  object \n",
      " 10  veiculo_único_dono   29584 non-null  object \n",
      " 11  ipva_pago            29584 non-null  object \n",
      " 12  veiculo_licenciado   29584 non-null  object \n",
      " 13  garantia_de_fábrica  29584 non-null  object \n",
      " 14  preco                29584 non-null  float64\n",
      "dtypes: float64(2), int64(2), object(11)\n",
      "memory usage: 3.4+ MB\n"
     ]
    }
   ],
   "source": [
    "# Explorando algumas informações\n",
    "df_cars.info()"
   ]
  },
  {
   "cell_type": "markdown",
   "id": "5f829546",
   "metadata": {},
   "source": [
    "### <a id='2.2.'></a>2.2. Dicionário de Dados\n",
    "\n",
    "- **marca:** Contém a marca do veículo anunciado\n",
    "- **modelo:** Contém o modelo do veículo anunciado\n",
    "- **versao:** Contém as descrições da versão do veículo anunciando. Sua cilindrada, quantidade de válvulas, se é flex ou não, etc.\n",
    "- **ano_de_fabricacao:** Contém o ano de fabricação do veículo anunciado\n",
    "- **hodometro:** Contém o valor registrado no hodômetro do veículo anunciado\n",
    "- **cambio:** Contém o tipo de câmbio do veículo anunciado\n",
    "- **num_portas:** Contém a quantidade de portas do veículo anunciado\n",
    "- **tipo:** Contém o tipo do veículo anunciado. Se ele é sedã, hatch, esportivo, etc.\n",
    "- **cor:** Contém a cor do veículo anunciado\n",
    "- **estado_vendedor:** Contém o estado em que vendedor do veículo anunciado reside\n",
    "- **veiculo_único_dono:** Contém informações o veículo anunciado é de um único dono\n",
    "- **ipva_pago:** Contém informações se o veículo anunciado está com o IPVA pago ou não\n",
    "- **veiculo_licenciado:** Contém informações se o veículo anunciado está com o licenciamento pago ou não\n",
    "- **garantia_de_fábrica:** Contém informações o veículo anunciado possui garantia de fábrica ou não\n",
    "- **preco (target):** Contém as informações do preço do veículo anunciado"
   ]
  },
  {
   "cell_type": "markdown",
   "id": "72ae4a25",
   "metadata": {},
   "source": [
    "## <a id='3.'></a> 3. Processamento dos Dados\n"
   ]
  },
  {
   "cell_type": "markdown",
   "id": "8d643942",
   "metadata": {},
   "source": [
    "### <a id='3.1.'></a>3.1. Criando nova variável"
   ]
  },
  {
   "cell_type": "markdown",
   "id": "b17c28e0",
   "metadata": {},
   "source": [
    "Identificamos que a coluna 'versao' contém diversas informações, além de ser do tipo 'object'. Dado o fato de existirem 1916 informações distintas, tornaria-se impraticável transformar cada uma delas em uma coluna numérica separada. Portanto, optamos por extrair a informação mais relevante dessa coluna: a potência do motor.\n",
    "\n",
    "Assim, procederemos à criação de uma nova variável chamada 'motor', na qual extrairemos os valores da coluna 'versao'."
   ]
  },
  {
   "cell_type": "code",
   "execution_count": 8,
   "id": "b960d57e",
   "metadata": {},
   "outputs": [
    {
     "data": {
      "text/html": [
       "<div>\n",
       "<style scoped>\n",
       "    .dataframe tbody tr th:only-of-type {\n",
       "        vertical-align: middle;\n",
       "    }\n",
       "\n",
       "    .dataframe tbody tr th {\n",
       "        vertical-align: top;\n",
       "    }\n",
       "\n",
       "    .dataframe thead th {\n",
       "        text-align: right;\n",
       "    }\n",
       "</style>\n",
       "<table border=\"1\" class=\"dataframe\">\n",
       "  <thead>\n",
       "    <tr style=\"text-align: right;\">\n",
       "      <th></th>\n",
       "      <th>marca</th>\n",
       "      <th>modelo</th>\n",
       "      <th>versao</th>\n",
       "      <th>ano_de_fabricacao</th>\n",
       "      <th>hodometro</th>\n",
       "      <th>cambio</th>\n",
       "      <th>num_portas</th>\n",
       "      <th>tipo</th>\n",
       "      <th>cor</th>\n",
       "      <th>estado_vendedor</th>\n",
       "      <th>veiculo_único_dono</th>\n",
       "      <th>ipva_pago</th>\n",
       "      <th>veiculo_licenciado</th>\n",
       "      <th>garantia_de_fábrica</th>\n",
       "      <th>preco</th>\n",
       "      <th>motor</th>\n",
       "    </tr>\n",
       "  </thead>\n",
       "  <tbody>\n",
       "    <tr>\n",
       "      <th>0</th>\n",
       "      <td>NISSAN</td>\n",
       "      <td>KICKS</td>\n",
       "      <td>1.6 16V FLEXSTART SL 4P XTRONIC</td>\n",
       "      <td>2017</td>\n",
       "      <td>67772.00</td>\n",
       "      <td>CVT</td>\n",
       "      <td>4</td>\n",
       "      <td>Sedã</td>\n",
       "      <td>Branco</td>\n",
       "      <td>São Paulo (SP)</td>\n",
       "      <td>Mais de um dono</td>\n",
       "      <td>IPVA pago</td>\n",
       "      <td>Licenciado</td>\n",
       "      <td>Sem garantia</td>\n",
       "      <td>74732.59</td>\n",
       "      <td>1.60</td>\n",
       "    </tr>\n",
       "    <tr>\n",
       "      <th>1</th>\n",
       "      <td>JEEP</td>\n",
       "      <td>COMPASS</td>\n",
       "      <td>2.0 16V FLEX LIMITED AUTOMÁTICO</td>\n",
       "      <td>2017</td>\n",
       "      <td>62979.00</td>\n",
       "      <td>Automática</td>\n",
       "      <td>4</td>\n",
       "      <td>Sedã</td>\n",
       "      <td>Branco</td>\n",
       "      <td>Minas Gerais (MG)</td>\n",
       "      <td>Mais de um dono</td>\n",
       "      <td>IPVA pago</td>\n",
       "      <td>Não Licenciado</td>\n",
       "      <td>Sem garantia</td>\n",
       "      <td>81965.33</td>\n",
       "      <td>2.00</td>\n",
       "    </tr>\n",
       "    <tr>\n",
       "      <th>2</th>\n",
       "      <td>KIA</td>\n",
       "      <td>SORENTO</td>\n",
       "      <td>2.4 16V GASOLINA EX 7L AWD AUTOMÁTICO</td>\n",
       "      <td>2018</td>\n",
       "      <td>44070.00</td>\n",
       "      <td>Automática</td>\n",
       "      <td>4</td>\n",
       "      <td>Sedã</td>\n",
       "      <td>Preto</td>\n",
       "      <td>São Paulo (SP)</td>\n",
       "      <td>Mais de um dono</td>\n",
       "      <td>IPVA não pago</td>\n",
       "      <td>Não Licenciado</td>\n",
       "      <td>Sem garantia</td>\n",
       "      <td>162824.81</td>\n",
       "      <td>2.40</td>\n",
       "    </tr>\n",
       "    <tr>\n",
       "      <th>3</th>\n",
       "      <td>VOLKSWAGEN</td>\n",
       "      <td>AMAROK</td>\n",
       "      <td>2.0 HIGHLINE 4X4 CD 16V TURBO INTERCOOLER DIES...</td>\n",
       "      <td>2013</td>\n",
       "      <td>85357.00</td>\n",
       "      <td>Automática</td>\n",
       "      <td>4</td>\n",
       "      <td>Picape</td>\n",
       "      <td>Branco</td>\n",
       "      <td>São Paulo (SP)</td>\n",
       "      <td>Mais de um dono</td>\n",
       "      <td>IPVA pago</td>\n",
       "      <td>Licenciado</td>\n",
       "      <td>Sem garantia</td>\n",
       "      <td>123681.36</td>\n",
       "      <td>2.00</td>\n",
       "    </tr>\n",
       "    <tr>\n",
       "      <th>4</th>\n",
       "      <td>SSANGYONG</td>\n",
       "      <td>KORANDO</td>\n",
       "      <td>2.0 GLS 4X4 16V TURBO DIESEL 4P AUTOMÁTICO</td>\n",
       "      <td>2013</td>\n",
       "      <td>71491.00</td>\n",
       "      <td>Automática</td>\n",
       "      <td>4</td>\n",
       "      <td>Utilitário esportivo</td>\n",
       "      <td>Preto</td>\n",
       "      <td>Rio de Janeiro (RJ)</td>\n",
       "      <td>Mais de um dono</td>\n",
       "      <td>IPVA não pago</td>\n",
       "      <td>Não Licenciado</td>\n",
       "      <td>Garantia de fábrica</td>\n",
       "      <td>82419.76</td>\n",
       "      <td>2.00</td>\n",
       "    </tr>\n",
       "  </tbody>\n",
       "</table>\n",
       "</div>"
      ],
      "text/plain": [
       "        marca   modelo                                             versao  \\\n",
       "0      NISSAN    KICKS                    1.6 16V FLEXSTART SL 4P XTRONIC   \n",
       "1        JEEP  COMPASS                    2.0 16V FLEX LIMITED AUTOMÁTICO   \n",
       "2         KIA  SORENTO              2.4 16V GASOLINA EX 7L AWD AUTOMÁTICO   \n",
       "3  VOLKSWAGEN   AMAROK  2.0 HIGHLINE 4X4 CD 16V TURBO INTERCOOLER DIES...   \n",
       "4   SSANGYONG  KORANDO         2.0 GLS 4X4 16V TURBO DIESEL 4P AUTOMÁTICO   \n",
       "\n",
       "   ano_de_fabricacao  hodometro      cambio  num_portas                  tipo  \\\n",
       "0               2017   67772.00         CVT           4                  Sedã   \n",
       "1               2017   62979.00  Automática           4                  Sedã   \n",
       "2               2018   44070.00  Automática           4                  Sedã   \n",
       "3               2013   85357.00  Automática           4                Picape   \n",
       "4               2013   71491.00  Automática           4  Utilitário esportivo   \n",
       "\n",
       "      cor      estado_vendedor veiculo_único_dono      ipva_pago  \\\n",
       "0  Branco       São Paulo (SP)    Mais de um dono      IPVA pago   \n",
       "1  Branco    Minas Gerais (MG)    Mais de um dono      IPVA pago   \n",
       "2   Preto       São Paulo (SP)    Mais de um dono  IPVA não pago   \n",
       "3  Branco       São Paulo (SP)    Mais de um dono      IPVA pago   \n",
       "4   Preto  Rio de Janeiro (RJ)    Mais de um dono  IPVA não pago   \n",
       "\n",
       "  veiculo_licenciado  garantia_de_fábrica     preco  motor  \n",
       "0         Licenciado         Sem garantia  74732.59   1.60  \n",
       "1     Não Licenciado         Sem garantia  81965.33   2.00  \n",
       "2     Não Licenciado         Sem garantia 162824.81   2.40  \n",
       "3         Licenciado         Sem garantia 123681.36   2.00  \n",
       "4     Não Licenciado  Garantia de fábrica  82419.76   2.00  "
      ]
     },
     "execution_count": 8,
     "metadata": {},
     "output_type": "execute_result"
    }
   ],
   "source": [
    "# Criando uma nova coluna 'motor' com os valores de potência extraídos da coluna 'versao'\n",
    "df_cars['motor'] = df_cars['versao'].str.extract('(\\d+\\.\\d+)').astype(float)\n",
    "df_cars.head()"
   ]
  },
  {
   "cell_type": "code",
   "execution_count": 9,
   "id": "e622ea10",
   "metadata": {},
   "outputs": [
    {
     "name": "stdout",
     "output_type": "stream",
     "text": [
      "float64\n"
     ]
    }
   ],
   "source": [
    "# Verificando se a coluna agora é numérica\n",
    "print(df_cars['motor'].dtype)"
   ]
  },
  {
   "cell_type": "code",
   "execution_count": 10,
   "id": "d3991f90",
   "metadata": {},
   "outputs": [
    {
     "name": "stdout",
     "output_type": "stream",
     "text": [
      "44\n"
     ]
    }
   ],
   "source": [
    "print(df_cars['motor'].nunique())"
   ]
  },
  {
   "cell_type": "markdown",
   "id": "5b0571bd",
   "metadata": {},
   "source": [
    "**Observações:** A coluna motor consta com 44 valores únicos, sendo eles (potência do motor) muito mais relevantes para o nosso modelo preditivo."
   ]
  },
  {
   "cell_type": "markdown",
   "id": "df41612c",
   "metadata": {},
   "source": [
    "### <a id='3.2.'></a>3.2. Removendo Algumas Variáveis\n",
    "Iremos remover algumas colunas que não são necessárias para o nosso modelo preditivo, ou que podem atrapalhar o seu desempenho:\n",
    "\n",
    "**estado_vendedor:** estado_vendedor: A localização do vendedor pode ser relevante em determinados casos, mas em outros, pode não desempenhar um papel significativo.\n",
    "\n",
    "**versao:**  Transformamos a coluna 'versao' em 'motor', sendo assim, vamos excluí-la"
   ]
  },
  {
   "cell_type": "code",
   "execution_count": 11,
   "id": "1c83ca5b",
   "metadata": {},
   "outputs": [
    {
     "data": {
      "text/plain": [
       "Index(['marca', 'modelo', 'ano_de_fabricacao', 'hodometro', 'cambio',\n",
       "       'num_portas', 'tipo', 'cor', 'veiculo_único_dono', 'ipva_pago',\n",
       "       'veiculo_licenciado', 'garantia_de_fábrica', 'preco', 'motor'],\n",
       "      dtype='object')"
      ]
     },
     "execution_count": 11,
     "metadata": {},
     "output_type": "execute_result"
    }
   ],
   "source": [
    "# Removendo colunas que não iremos usar \n",
    "colunas_remover = ['estado_vendedor', 'versao']\n",
    "df_cars = df_cars.drop(colunas_remover, axis=1)\n",
    "df_cars.columns"
   ]
  },
  {
   "cell_type": "markdown",
   "id": "a38c7ff7",
   "metadata": {},
   "source": [
    "### <a id='3.3.'></a> 3.3. Tratando Outliers"
   ]
  },
  {
   "cell_type": "code",
   "execution_count": 12,
   "id": "9bced510",
   "metadata": {},
   "outputs": [
    {
     "data": {
      "text/plain": [
       "count     29584.00\n",
       "mean     133023.88\n",
       "std       81662.87\n",
       "min        9869.95\n",
       "10%       54443.66\n",
       "20%       69320.45\n",
       "30%       83559.10\n",
       "40%       97878.02\n",
       "50%      114355.80\n",
       "60%      132245.83\n",
       "70%      151285.88\n",
       "80%      181130.82\n",
       "90%      237865.19\n",
       "100%    1359812.89\n",
       "max     1359812.89\n",
       "Name: preco, dtype: float64"
      ]
     },
     "execution_count": 12,
     "metadata": {},
     "output_type": "execute_result"
    }
   ],
   "source": [
    "# Utilizando o describe para analisar possíveis outliers na target:\n",
    "quartis_personalizados = [0.10, 0.20, 0.30, 0.40, 0.50, 0.60, 0.70, 0.80, 0.90, 1.00]\n",
    "descricao_quartis = df_cars['preco'].describe(percentiles=quartis_personalizados)\n",
    "\n",
    "descricao_quartis"
   ]
  },
  {
   "cell_type": "code",
   "execution_count": 13,
   "id": "1461862f",
   "metadata": {},
   "outputs": [
    {
     "data": {
      "image/png": "[encoded data removed]",
      "text/plain": [
       "<Figure size 800x600 with 1 Axes>"
      ]
     },
     "metadata": {},
     "output_type": "display_data"
    }
   ],
   "source": [
    "# Dados para o gráfico de caixa\n",
    "preco = df_cars['preco']\n",
    "\n",
    "# Gráfico\n",
    "plt.figure(figsize=(8, 6))\n",
    "plt.boxplot(preco, vert=False)\n",
    "plt.xlabel('Preço')\n",
    "plt.title('Gráfico de Caixa para Preço')\n",
    "plt.grid(axis='x', linestyle='--', alpha=0.7)\n",
    "plt.show()"
   ]
  },
  {
   "cell_type": "markdown",
   "id": "c9279ec6",
   "metadata": {},
   "source": [
    "**Observações**: Observando o o describe e o gráfico, podemos observar que temos outliers com valores altos. Vamos ver mais um gráfico para analisar melhor:"
   ]
  },
  {
   "cell_type": "code",
   "execution_count": 14,
   "id": "4e872d29",
   "metadata": {},
   "outputs": [
    {
     "data": {
      "image/png": "[encoded data removed]",
      "text/plain": [
       "<Figure size 1000x600 with 1 Axes>"
      ]
     },
     "metadata": {},
     "output_type": "display_data"
    }
   ],
   "source": [
    "# Dados para o histograma\n",
    "faixa_preco = df_cars['preco']\n",
    "\n",
    "# Gráfico\n",
    "plt.figure(figsize=(10, 6))\n",
    "plt.hist(faixa_preco, bins=20, color='skyblue', edgecolor='black')\n",
    "plt.xlabel('Preço')\n",
    "plt.ylabel('Frequência')\n",
    "plt.title('Histograma de Preço')\n",
    "plt.grid(axis='y', linestyle='--', alpha=0.7)\n",
    "plt.show()"
   ]
  },
  {
   "cell_type": "markdown",
   "id": "30c9e31b",
   "metadata": {},
   "source": [
    "**Análise:** Aqui, podemos notar uma queda acentuada nos preços a partir de 200 mil, seguida por uma leve diminuição após os 300 mil. Portanto, alinhando-se com as observações do boxplot (onde a linha dos outliers é definida em torno de 294 mil), **consideraremos valores acima desse valor como outliers.**"
   ]
  },
  {
   "cell_type": "code",
   "execution_count": 15,
   "id": "51503ca8",
   "metadata": {},
   "outputs": [
    {
     "data": {
      "text/plain": [
       "count     29584.00\n",
       "mean     133023.88\n",
       "std       81662.87\n",
       "min        9869.95\n",
       "50%      114355.80\n",
       "90%      237865.19\n",
       "95%      291556.64\n",
       "96%      310382.68\n",
       "97%      334183.01\n",
       "98%      360621.85\n",
       "99%      404070.25\n",
       "100%    1359812.89\n",
       "max     1359812.89\n",
       "Name: preco, dtype: float64"
      ]
     },
     "execution_count": 15,
     "metadata": {},
     "output_type": "execute_result"
    }
   ],
   "source": [
    "# Analisando os quartís para encontrar uma %\n",
    "quartis_personalizados = [0.90,0.95,0.96,0.97,0.98,0.99,1.00]\n",
    "descricao_quartis = df_cars['preco'].describe(percentiles=quartis_personalizados)\n",
    "descricao_quartis"
   ]
  },
  {
   "cell_type": "code",
   "execution_count": 16,
   "id": "28fb7c02",
   "metadata": {},
   "outputs": [],
   "source": [
    "# Calculaando o Percentil 0.95 do preço\n",
    "preco_percentil_95 = df_cars['preco'].describe(percentiles=[0.95])['95%']\n",
    "\n",
    "# Removeendo valores acima do Percentil 0.95\n",
    "df_cars_no_outliers = df_cars[df_cars['preco'] <= preco_percentil_95]"
   ]
  },
  {
   "cell_type": "markdown",
   "id": "4d21ddb5",
   "metadata": {},
   "source": [
    "A faixa acima de 95% dos nossos dados já nos atende bem. Ou seja, valores acima de 291 mil"
   ]
  },
  {
   "cell_type": "code",
   "execution_count": 17,
   "id": "d06b73e1",
   "metadata": {},
   "outputs": [],
   "source": [
    "# Fazendo as alterações no df_cars\n",
    "df_cars = df_cars_no_outliers.copy()"
   ]
  },
  {
   "cell_type": "code",
   "execution_count": 18,
   "id": "7e9966da",
   "metadata": {},
   "outputs": [
    {
     "data": {
      "image/png": "[encoded data removed]",
      "text/plain": [
       "<Figure size 800x600 with 1 Axes>"
      ]
     },
     "metadata": {},
     "output_type": "display_data"
    }
   ],
   "source": [
    "# Dados para o gráfico de caixa\n",
    "preco = df_cars['preco']\n",
    "\n",
    "# Gráfico\n",
    "plt.figure(figsize=(8, 6))\n",
    "plt.boxplot(preco, vert=False)\n",
    "plt.xlabel('Preço')\n",
    "plt.title('Gráfico de Caixa para Preço')\n",
    "plt.grid(axis='x', linestyle='--', alpha=0.7)\n",
    "plt.show()\n"
   ]
  },
  {
   "cell_type": "code",
   "execution_count": 19,
   "id": "f08059cc",
   "metadata": {},
   "outputs": [
    {
     "data": {
      "text/plain": [
       "(28104, 14)"
      ]
     },
     "execution_count": 19,
     "metadata": {},
     "output_type": "execute_result"
    }
   ],
   "source": [
    "# Avaliando a quantidade de linhas e colunas:\n",
    "df_cars.shape"
   ]
  },
  {
   "cell_type": "markdown",
   "id": "4e4128fc",
   "metadata": {},
   "source": [
    "### <a id='3.4.'></a> 3.4. Codificação de Variáveis Categóricas\n",
    "Vamos analisar quantas classes possuem as variáveis categóricas para saber como codificar cada uma"
   ]
  },
  {
   "cell_type": "code",
   "execution_count": 20,
   "id": "d0e93296",
   "metadata": {},
   "outputs": [
    {
     "data": {
      "text/plain": [
       "Index(['ano_de_fabricacao', 'hodometro', 'num_portas', 'preco', 'motor'], dtype='object')"
      ]
     },
     "execution_count": 20,
     "metadata": {},
     "output_type": "execute_result"
    }
   ],
   "source": [
    "# Verificando as variáveis numéricas\n",
    "df_cars._get_numeric_data().columns"
   ]
  },
  {
   "cell_type": "code",
   "execution_count": 21,
   "id": "f401c766",
   "metadata": {},
   "outputs": [
    {
     "data": {
      "text/plain": [
       "['marca',\n",
       " 'modelo',\n",
       " 'cambio',\n",
       " 'tipo',\n",
       " 'cor',\n",
       " 'veiculo_único_dono',\n",
       " 'ipva_pago',\n",
       " 'veiculo_licenciado',\n",
       " 'garantia_de_fábrica']"
      ]
     },
     "execution_count": 21,
     "metadata": {},
     "output_type": "execute_result"
    }
   ],
   "source": [
    "# Verificando as variáveis categóricas\n",
    "colunas_categoricas = [coluna for coluna in df_cars.columns if coluna not in df_cars._get_numeric_data().columns]\n",
    "colunas_categoricas"
   ]
  },
  {
   "cell_type": "markdown",
   "id": "3b919e37",
   "metadata": {},
   "source": [
    "**Obs:** Lembrando que os modelos de machine learning não sabem o que são categorias em sua maioria, devemos, portanto, codificar as variáveis 'marca', 'modelo', 'cambio', 'tipo', 'cor', 'veiculo_único_dono', 'ipva_pago', 'veiculo_licenciado', 'garantia_de_fábrica'"
   ]
  },
  {
   "cell_type": "markdown",
   "id": "4d7acf96",
   "metadata": {},
   "source": [
    "### <a id='3.4.1.'></a> 3.4.1. Label Encoding\n",
    "#### Usaremos o Label Encoding para as variáveis com valores ordinais\n",
    "\n",
    "Identificamos as seguintes variáveis como ordinais:\n",
    "\n",
    "**'cambio':** podemos identificar uma ordem de grandeza entre os cambios, por exemplo: manuzal < automática\n",
    "\n",
    "**'veiculo_único_dono':** podemos identificar uma ordem de grandeza entre os cambios, por exemplo: Mais de um dono < Único dono\n",
    "\n",
    "**'ipva_pago':** podemos identificar uma ordem de grandeza entre os cambios, por exemplo: IPVA não pago < IPVA pago\n",
    "\n",
    "**'veiculo_licenciado':** podemos identificar uma ordem de grandeza entre os cambios, por exemplo: Não Licenciado < Licenciado\n",
    "\n",
    "**'garantia_de_fábrica:** podemos identificar uma ordem de grandeza entre os cambios, por exemplo: Sem garantia < Garantia de Fábrica"
   ]
  },
  {
   "cell_type": "code",
   "execution_count": 22,
   "id": "9fb52db0",
   "metadata": {},
   "outputs": [],
   "source": [
    "# Importanto a biblioteca necessária\n",
    "from sklearn.preprocessing import LabelEncoder"
   ]
  },
  {
   "cell_type": "code",
   "execution_count": 23,
   "id": "a1ede5b3",
   "metadata": {},
   "outputs": [
    {
     "name": "stdout",
     "output_type": "stream",
     "text": [
      "['CVT' 'Automática' 'Manual' 'Automatizada' 'Semi-automática'\n",
      " 'Automatizada DCT' 'Automática Sequencial']\n"
     ]
    }
   ],
   "source": [
    "# Verificando os elementos únicos da variável 'cambio'\n",
    "elementos_unicos = df_cars['cambio'].unique()\n",
    "\n",
    "print(elementos_unicos)"
   ]
  },
  {
   "cell_type": "code",
   "execution_count": 24,
   "id": "f1f509fa",
   "metadata": {},
   "outputs": [],
   "source": [
    "# Mapeando a coluna 'cambio'\n",
    "cambio_mapping = {\n",
    "    'Manual': 0,\n",
    "    'Semi-automática': 1,\n",
    "    'Automática': 2,\n",
    "    'Automatizada': 3,\n",
    "    'Automática Sequencial': 4,\n",
    "    'Automatizada DCT': 6,\n",
    "    'CVT': 5}\n",
    "\n",
    "# Aplicando o mapeamento à coluna 'cambio'\n",
    "df_cars['cambio'] = df_cars['cambio'].map(cambio_mapping)"
   ]
  },
  {
   "cell_type": "markdown",
   "id": "b4aef1bb",
   "metadata": {},
   "source": [
    "Decidi colocar nessa ordem de grandeza pelos seguintes motivos:\n",
    "\n",
    "**Manual:** Transmissões manuais requerem que o motorista faça todas as mudanças de marcha manualmente usando uma embreagem. Elas são geralmente mais baratas, simples e leves em comparação com transmissões automáticas, mas podem exigir mais habilidade de condução, especialmente em tráfego pesado.\n",
    "\n",
    "**Semi-automática:** Transmissões semi-automáticas permitem que o motorista escolha quando mudar de marcha, mas podem operar automaticamente se o motorista não fizer uma mudança. Elas oferecem alguma flexibilidade, mas podem não ser tão suaves quanto transmissões automáticas.\n",
    "\n",
    "**Automática:** Transmissões automáticas não exigem que o motorista faça mudanças manuais. Elas são conhecidas por serem mais fáceis de usar, proporcionando uma experiência de direção mais suave, especialmente em trânsito urbano.\n",
    "\n",
    "**Automatizada:** Essas transmissões geralmente são semelhantes às automáticas, mas podem ser controladas manualmente pelo motorista. Elas oferecem uma combinação de conveniência automática e controle manual.\n",
    "\n",
    "**Automática Sequencial:** Semelhante a transmissões automáticas, mas com a capacidade de fazer mudanças de marcha sequencialmente, permitindo um pouco mais de controle manual.\n",
    "\n",
    "**CVT** (Transmissão de Variação Contínua): As transmissões CVT não têm marchas fixas, mas operam em uma ampla faixa de relações de marcha. Elas são conhecidas por oferecer uma condução suave e eficiente em termos de combustível, mas podem não ser tão empolgantes em termos de desempenho.\n",
    "\n",
    "**Automatizada DCT** (Transmissão de Dupla Embreagem): As transmissões DCT usam duas embreagens para permitir mudanças de marcha mais rápidas e suaves. Elas são conhecidas por oferecer uma combinação de eficiência de combustível e desempenho."
   ]
  },
  {
   "cell_type": "markdown",
   "id": "50fc5af3",
   "metadata": {},
   "source": [
    "### <a id='3.4.2.'></a> 3.4.2. Mapeamento\n",
    "#### Usaremos o mapeamento direto para as variável com apenas duas classes"
   ]
  },
  {
   "cell_type": "code",
   "execution_count": 25,
   "id": "4969329c",
   "metadata": {},
   "outputs": [
    {
     "name": "stdout",
     "output_type": "stream",
     "text": [
      "Valores únicos da coluna 'veiculo_único_dono':\n",
      "['Mais de um dono' 'Único dono']\n",
      "\n",
      "Valores únicos da coluna 'ipva_pago':\n",
      "['IPVA pago' 'IPVA não pago']\n",
      "\n",
      "Valores únicos da coluna 'veiculo_licenciado':\n",
      "['Licenciado' 'Não Licenciado']\n",
      "\n",
      "Valores únicos da coluna 'garantia_de_fábrica':\n",
      "['Sem garantia' 'Garantia de fábrica']\n"
     ]
    }
   ],
   "source": [
    "# Imprimindo os valores únicos\n",
    "valores_unicos_unico_dono = df_cars['veiculo_único_dono'].unique()\n",
    "print(\"Valores únicos da coluna 'veiculo_único_dono':\")\n",
    "print(valores_unicos_unico_dono)\n",
    "\n",
    "valores_unicos_ipva_pago = df_cars['ipva_pago'].unique()\n",
    "print(\"\\nValores únicos da coluna 'ipva_pago':\")\n",
    "print(valores_unicos_ipva_pago)\n",
    "\n",
    "valores_unicos_licenciado = df_cars['veiculo_licenciado'].unique()\n",
    "print(\"\\nValores únicos da coluna 'veiculo_licenciado':\")\n",
    "print(valores_unicos_licenciado)\n",
    "\n",
    "valores_unicos_garantia = df_cars['garantia_de_fábrica'].unique()\n",
    "print(\"\\nValores únicos da coluna 'garantia_de_fábrica':\")\n",
    "print(valores_unicos_garantia)"
   ]
  },
  {
   "cell_type": "code",
   "execution_count": 26,
   "id": "efdb33c4",
   "metadata": {},
   "outputs": [],
   "source": [
    "# Mapeando para realizar a transformação\n",
    "df_cars['veiculo_único_dono'] = df_cars['veiculo_único_dono'].map({'Mais de um dono': 0, 'Único dono': 1})\n",
    "df_cars['ipva_pago'] = df_cars['ipva_pago'].map({'IPVA pago': 0, 'IPVA não pago': 1})\n",
    "df_cars['veiculo_licenciado'] = df_cars['veiculo_licenciado'].map({'Licenciado': 0, 'Não Licenciado': 1})\n",
    "df_cars['garantia_de_fábrica'] = df_cars['garantia_de_fábrica'].map({'Sem garantia': 0, 'Garantia de fábrica': 1})"
   ]
  },
  {
   "cell_type": "code",
   "execution_count": 27,
   "id": "a83799b6",
   "metadata": {},
   "outputs": [
    {
     "data": {
      "text/html": [
       "<div>\n",
       "<style scoped>\n",
       "    .dataframe tbody tr th:only-of-type {\n",
       "        vertical-align: middle;\n",
       "    }\n",
       "\n",
       "    .dataframe tbody tr th {\n",
       "        vertical-align: top;\n",
       "    }\n",
       "\n",
       "    .dataframe thead th {\n",
       "        text-align: right;\n",
       "    }\n",
       "</style>\n",
       "<table border=\"1\" class=\"dataframe\">\n",
       "  <thead>\n",
       "    <tr style=\"text-align: right;\">\n",
       "      <th></th>\n",
       "      <th>marca</th>\n",
       "      <th>modelo</th>\n",
       "      <th>ano_de_fabricacao</th>\n",
       "      <th>hodometro</th>\n",
       "      <th>cambio</th>\n",
       "      <th>num_portas</th>\n",
       "      <th>tipo</th>\n",
       "      <th>cor</th>\n",
       "      <th>veiculo_único_dono</th>\n",
       "      <th>ipva_pago</th>\n",
       "      <th>veiculo_licenciado</th>\n",
       "      <th>garantia_de_fábrica</th>\n",
       "      <th>preco</th>\n",
       "      <th>motor</th>\n",
       "    </tr>\n",
       "  </thead>\n",
       "  <tbody>\n",
       "    <tr>\n",
       "      <th>0</th>\n",
       "      <td>NISSAN</td>\n",
       "      <td>KICKS</td>\n",
       "      <td>2017</td>\n",
       "      <td>67772.00</td>\n",
       "      <td>5</td>\n",
       "      <td>4</td>\n",
       "      <td>Sedã</td>\n",
       "      <td>Branco</td>\n",
       "      <td>0</td>\n",
       "      <td>0</td>\n",
       "      <td>0</td>\n",
       "      <td>0</td>\n",
       "      <td>74732.59</td>\n",
       "      <td>1.60</td>\n",
       "    </tr>\n",
       "    <tr>\n",
       "      <th>1</th>\n",
       "      <td>JEEP</td>\n",
       "      <td>COMPASS</td>\n",
       "      <td>2017</td>\n",
       "      <td>62979.00</td>\n",
       "      <td>2</td>\n",
       "      <td>4</td>\n",
       "      <td>Sedã</td>\n",
       "      <td>Branco</td>\n",
       "      <td>0</td>\n",
       "      <td>0</td>\n",
       "      <td>1</td>\n",
       "      <td>0</td>\n",
       "      <td>81965.33</td>\n",
       "      <td>2.00</td>\n",
       "    </tr>\n",
       "    <tr>\n",
       "      <th>2</th>\n",
       "      <td>KIA</td>\n",
       "      <td>SORENTO</td>\n",
       "      <td>2018</td>\n",
       "      <td>44070.00</td>\n",
       "      <td>2</td>\n",
       "      <td>4</td>\n",
       "      <td>Sedã</td>\n",
       "      <td>Preto</td>\n",
       "      <td>0</td>\n",
       "      <td>1</td>\n",
       "      <td>1</td>\n",
       "      <td>0</td>\n",
       "      <td>162824.81</td>\n",
       "      <td>2.40</td>\n",
       "    </tr>\n",
       "    <tr>\n",
       "      <th>3</th>\n",
       "      <td>VOLKSWAGEN</td>\n",
       "      <td>AMAROK</td>\n",
       "      <td>2013</td>\n",
       "      <td>85357.00</td>\n",
       "      <td>2</td>\n",
       "      <td>4</td>\n",
       "      <td>Picape</td>\n",
       "      <td>Branco</td>\n",
       "      <td>0</td>\n",
       "      <td>0</td>\n",
       "      <td>0</td>\n",
       "      <td>0</td>\n",
       "      <td>123681.36</td>\n",
       "      <td>2.00</td>\n",
       "    </tr>\n",
       "    <tr>\n",
       "      <th>4</th>\n",
       "      <td>SSANGYONG</td>\n",
       "      <td>KORANDO</td>\n",
       "      <td>2013</td>\n",
       "      <td>71491.00</td>\n",
       "      <td>2</td>\n",
       "      <td>4</td>\n",
       "      <td>Utilitário esportivo</td>\n",
       "      <td>Preto</td>\n",
       "      <td>0</td>\n",
       "      <td>1</td>\n",
       "      <td>1</td>\n",
       "      <td>1</td>\n",
       "      <td>82419.76</td>\n",
       "      <td>2.00</td>\n",
       "    </tr>\n",
       "  </tbody>\n",
       "</table>\n",
       "</div>"
      ],
      "text/plain": [
       "        marca   modelo  ano_de_fabricacao  hodometro  cambio  num_portas  \\\n",
       "0      NISSAN    KICKS               2017   67772.00       5           4   \n",
       "1        JEEP  COMPASS               2017   62979.00       2           4   \n",
       "2         KIA  SORENTO               2018   44070.00       2           4   \n",
       "3  VOLKSWAGEN   AMAROK               2013   85357.00       2           4   \n",
       "4   SSANGYONG  KORANDO               2013   71491.00       2           4   \n",
       "\n",
       "                   tipo     cor  veiculo_único_dono  ipva_pago  \\\n",
       "0                  Sedã  Branco                   0          0   \n",
       "1                  Sedã  Branco                   0          0   \n",
       "2                  Sedã   Preto                   0          1   \n",
       "3                Picape  Branco                   0          0   \n",
       "4  Utilitário esportivo   Preto                   0          1   \n",
       "\n",
       "   veiculo_licenciado  garantia_de_fábrica     preco  motor  \n",
       "0                   0                    0  74732.59   1.60  \n",
       "1                   1                    0  81965.33   2.00  \n",
       "2                   1                    0 162824.81   2.40  \n",
       "3                   0                    0 123681.36   2.00  \n",
       "4                   1                    1  82419.76   2.00  "
      ]
     },
     "execution_count": 27,
     "metadata": {},
     "output_type": "execute_result"
    }
   ],
   "source": [
    "# Verificando Resultados\n",
    "df_cars.head()"
   ]
  },
  {
   "cell_type": "markdown",
   "id": "6b064d4c",
   "metadata": {},
   "source": [
    "### <a id='3.4.3.'></a> 3.4.3. Codificando Demais Variáveis\n",
    "\n",
    "As variáveis 'tipo', 'cor', 'marca' e 'modelo' têm muitas categorias. Usar codificação one-hot (OHE) resultaria em muitas colunas, o que pode prejudicar o desempenho do modelo. Optei por realizar uma análise de variância (ANOVA) para avaliar a relação com a variável 'preço'. Se encontrarmos correlações fortes, consideraremos usar Codificação Alvo (Target Encoding) para representar essas variáveis, condensando informações em formato numérico e mantendo relevância para o modelo."
   ]
  },
  {
   "cell_type": "code",
   "execution_count": 28,
   "id": "90d37e39",
   "metadata": {},
   "outputs": [
    {
     "name": "stdout",
     "output_type": "stream",
     "text": [
      "Resultado do teste ANOVA para tipo (p-valor): 0.0000\n",
      "Resultado do teste ANOVA para cor (p-valor): 0.0000\n",
      "Resultado do teste ANOVA para marca (p-valor): 0.0000\n",
      "Resultado do teste ANOVA para modelo (p-valor): 0.0000\n"
     ]
    }
   ],
   "source": [
    "# Importando função necessária\n",
    "import scipy.stats as stats\n",
    "\n",
    "# Função para realizar o teste ANOVA e imprimir o resultado\n",
    "def perform_anova(df_cars, group_column):\n",
    "    grupo_por_variavel = df_cars.groupby(group_column)['preco'].agg(['mean', 'median', 'std', 'count']).reset_index()\n",
    "    grupos = [df_cars[df_cars[group_column] == valor]['preco'] for valor in grupo_por_variavel[group_column]]\n",
    "    resultado_anova = stats.f_oneway(*grupos)\n",
    "    print(f\"Resultado do teste ANOVA para {group_column} (p-valor): {resultado_anova.pvalue:.4f}\")\n",
    "\n",
    "# Executando o ANOVA para cada variável desejada\n",
    "perform_anova(df_cars, 'tipo')\n",
    "perform_anova(df_cars, 'cor')\n",
    "perform_anova(df_cars, 'marca')\n",
    "perform_anova(df_cars, 'modelo')"
   ]
  },
  {
   "cell_type": "markdown",
   "id": "9a317f90",
   "metadata": {},
   "source": [
    "Os resultados dos testes ANOVA sugerem que há uma diferença estatisticamente significativa nas médias dos preços entre as categorias das variáveis 'tipo', 'cor', 'marca' e 'modelo'. Isso significa que essas variáveis têm **influência significativa** nos **preços** dos carros. Sendo assim, vou utilizar a **Codificação Alvo.**"
   ]
  },
  {
   "cell_type": "code",
   "execution_count": 29,
   "id": "3c3fad6e",
   "metadata": {},
   "outputs": [],
   "source": [
    "# Defindo as colunas\n",
    "colunas_alvo = ['cor', 'modelo', 'marca', 'tipo']\n",
    "\n",
    "# Itere sobre as colunas\n",
    "for coluna in colunas_alvo:\n",
    "    media_preco = df_cars.groupby(coluna)['preco'].mean().to_dict()\n",
    "    df_cars[f'{coluna}_encoded'] = df_cars[coluna].map(media_preco)"
   ]
  },
  {
   "cell_type": "code",
   "execution_count": 30,
   "id": "e1823cfc",
   "metadata": {},
   "outputs": [],
   "source": [
    "# Removendo as colunas antigas\n",
    "colunas_alvo = ['tipo', 'cor', 'marca', 'modelo']\n",
    "df_cars = df_cars.drop(colunas_alvo, axis=1)"
   ]
  },
  {
   "cell_type": "code",
   "execution_count": 31,
   "id": "3a24b3a4",
   "metadata": {},
   "outputs": [
    {
     "data": {
      "text/html": [
       "<div>\n",
       "<style scoped>\n",
       "    .dataframe tbody tr th:only-of-type {\n",
       "        vertical-align: middle;\n",
       "    }\n",
       "\n",
       "    .dataframe tbody tr th {\n",
       "        vertical-align: top;\n",
       "    }\n",
       "\n",
       "    .dataframe thead th {\n",
       "        text-align: right;\n",
       "    }\n",
       "</style>\n",
       "<table border=\"1\" class=\"dataframe\">\n",
       "  <thead>\n",
       "    <tr style=\"text-align: right;\">\n",
       "      <th></th>\n",
       "      <th>ano_de_fabricacao</th>\n",
       "      <th>hodometro</th>\n",
       "      <th>cambio</th>\n",
       "      <th>num_portas</th>\n",
       "      <th>veiculo_único_dono</th>\n",
       "      <th>ipva_pago</th>\n",
       "      <th>veiculo_licenciado</th>\n",
       "      <th>garantia_de_fábrica</th>\n",
       "      <th>preco</th>\n",
       "      <th>motor</th>\n",
       "      <th>cor_encoded</th>\n",
       "      <th>modelo_encoded</th>\n",
       "      <th>marca_encoded</th>\n",
       "      <th>tipo_encoded</th>\n",
       "    </tr>\n",
       "  </thead>\n",
       "  <tbody>\n",
       "    <tr>\n",
       "      <th>0</th>\n",
       "      <td>2017</td>\n",
       "      <td>67772.00</td>\n",
       "      <td>5</td>\n",
       "      <td>4</td>\n",
       "      <td>0</td>\n",
       "      <td>0</td>\n",
       "      <td>0</td>\n",
       "      <td>0</td>\n",
       "      <td>74732.59</td>\n",
       "      <td>1.60</td>\n",
       "      <td>121041.60</td>\n",
       "      <td>93763.91</td>\n",
       "      <td>107733.08</td>\n",
       "      <td>113992.95</td>\n",
       "    </tr>\n",
       "    <tr>\n",
       "      <th>1</th>\n",
       "      <td>2017</td>\n",
       "      <td>62979.00</td>\n",
       "      <td>2</td>\n",
       "      <td>4</td>\n",
       "      <td>0</td>\n",
       "      <td>0</td>\n",
       "      <td>1</td>\n",
       "      <td>0</td>\n",
       "      <td>81965.33</td>\n",
       "      <td>2.00</td>\n",
       "      <td>121041.60</td>\n",
       "      <td>147889.65</td>\n",
       "      <td>137299.37</td>\n",
       "      <td>113992.95</td>\n",
       "    </tr>\n",
       "    <tr>\n",
       "      <th>2</th>\n",
       "      <td>2018</td>\n",
       "      <td>44070.00</td>\n",
       "      <td>2</td>\n",
       "      <td>4</td>\n",
       "      <td>0</td>\n",
       "      <td>1</td>\n",
       "      <td>1</td>\n",
       "      <td>0</td>\n",
       "      <td>162824.81</td>\n",
       "      <td>2.40</td>\n",
       "      <td>112332.94</td>\n",
       "      <td>121376.57</td>\n",
       "      <td>119267.68</td>\n",
       "      <td>113992.95</td>\n",
       "    </tr>\n",
       "    <tr>\n",
       "      <th>3</th>\n",
       "      <td>2013</td>\n",
       "      <td>85357.00</td>\n",
       "      <td>2</td>\n",
       "      <td>4</td>\n",
       "      <td>0</td>\n",
       "      <td>0</td>\n",
       "      <td>0</td>\n",
       "      <td>0</td>\n",
       "      <td>123681.36</td>\n",
       "      <td>2.00</td>\n",
       "      <td>121041.60</td>\n",
       "      <td>169545.02</td>\n",
       "      <td>113510.32</td>\n",
       "      <td>136736.98</td>\n",
       "    </tr>\n",
       "    <tr>\n",
       "      <th>4</th>\n",
       "      <td>2013</td>\n",
       "      <td>71491.00</td>\n",
       "      <td>2</td>\n",
       "      <td>4</td>\n",
       "      <td>0</td>\n",
       "      <td>1</td>\n",
       "      <td>1</td>\n",
       "      <td>1</td>\n",
       "      <td>82419.76</td>\n",
       "      <td>2.00</td>\n",
       "      <td>112332.94</td>\n",
       "      <td>84982.20</td>\n",
       "      <td>84982.20</td>\n",
       "      <td>191050.19</td>\n",
       "    </tr>\n",
       "  </tbody>\n",
       "</table>\n",
       "</div>"
      ],
      "text/plain": [
       "   ano_de_fabricacao  hodometro  cambio  num_portas  veiculo_único_dono  \\\n",
       "0               2017   67772.00       5           4                   0   \n",
       "1               2017   62979.00       2           4                   0   \n",
       "2               2018   44070.00       2           4                   0   \n",
       "3               2013   85357.00       2           4                   0   \n",
       "4               2013   71491.00       2           4                   0   \n",
       "\n",
       "   ipva_pago  veiculo_licenciado  garantia_de_fábrica     preco  motor  \\\n",
       "0          0                   0                    0  74732.59   1.60   \n",
       "1          0                   1                    0  81965.33   2.00   \n",
       "2          1                   1                    0 162824.81   2.40   \n",
       "3          0                   0                    0 123681.36   2.00   \n",
       "4          1                   1                    1  82419.76   2.00   \n",
       "\n",
       "   cor_encoded  modelo_encoded  marca_encoded  tipo_encoded  \n",
       "0    121041.60        93763.91      107733.08     113992.95  \n",
       "1    121041.60       147889.65      137299.37     113992.95  \n",
       "2    112332.94       121376.57      119267.68     113992.95  \n",
       "3    121041.60       169545.02      113510.32     136736.98  \n",
       "4    112332.94        84982.20       84982.20     191050.19  "
      ]
     },
     "execution_count": 31,
     "metadata": {},
     "output_type": "execute_result"
    }
   ],
   "source": [
    "df_cars.head()"
   ]
  },
  {
   "cell_type": "markdown",
   "id": "687d3d9f",
   "metadata": {},
   "source": [
    "Tudo pronto até o momento. Todas as variáveis são numéricas."
   ]
  },
  {
   "cell_type": "markdown",
   "id": "a8e91957",
   "metadata": {},
   "source": [
    "### <a id='3.4.4.'></a> 3.4.4. Dados Faltantes"
   ]
  },
  {
   "cell_type": "code",
   "execution_count": 32,
   "id": "092c7826",
   "metadata": {},
   "outputs": [
    {
     "name": "stdout",
     "output_type": "stream",
     "text": [
      "motor    49\n",
      "dtype: int64\n"
     ]
    }
   ],
   "source": [
    "# Verificando se não há dados faltantes depois das alterações\n",
    "valores_ausentes = df_cars.isna().sum()\n",
    "\n",
    "# Filtraando para incluir apenas colunas com valores ausentes\n",
    "colunas_com_dados_ausentes = valores_ausentes[valores_ausentes > 0]\n",
    "print(colunas_com_dados_ausentes)"
   ]
  },
  {
   "cell_type": "markdown",
   "id": "250722fb",
   "metadata": {},
   "source": [
    "**Obs:** os dados faltantes estão em um pequeno número de linhas e essas linhas não são críticas para a análise ou modelo, então optei por remover as linhas com dados ausentes."
   ]
  },
  {
   "cell_type": "code",
   "execution_count": 33,
   "id": "610fba34",
   "metadata": {},
   "outputs": [],
   "source": [
    "# Removendo linhas com dados faltantes\n",
    "df_cars = df_cars.dropna(subset=['motor'])"
   ]
  },
  {
   "cell_type": "code",
   "execution_count": 34,
   "id": "3bbba06e",
   "metadata": {},
   "outputs": [
    {
     "name": "stdout",
     "output_type": "stream",
     "text": [
      "Series([], dtype: int64)\n"
     ]
    }
   ],
   "source": [
    "# Verificando\n",
    "valores_ausentes = df_cars.isna().sum()\n",
    "colunas_com_dados_ausentes = valores_ausentes[valores_ausentes > 0]\n",
    "print(colunas_com_dados_ausentes)"
   ]
  },
  {
   "cell_type": "markdown",
   "id": "c1a4fd6f",
   "metadata": {},
   "source": [
    "### <a id='3.5.'></a> 3.5. Determinandovariáveis preditoras e variável target \n",
    "\n",
    "Variáveis preditoras: X; variável target: y."
   ]
  },
  {
   "cell_type": "code",
   "execution_count": 35,
   "id": "ebe17267",
   "metadata": {},
   "outputs": [],
   "source": [
    "# Determinando\n",
    "X = df_cars.drop('preco', axis=1)\n",
    "y = df_cars[['preco']]"
   ]
  },
  {
   "cell_type": "code",
   "execution_count": 36,
   "id": "e5d34c64",
   "metadata": {},
   "outputs": [
    {
     "data": {
      "text/html": [
       "<div>\n",
       "<style scoped>\n",
       "    .dataframe tbody tr th:only-of-type {\n",
       "        vertical-align: middle;\n",
       "    }\n",
       "\n",
       "    .dataframe tbody tr th {\n",
       "        vertical-align: top;\n",
       "    }\n",
       "\n",
       "    .dataframe thead th {\n",
       "        text-align: right;\n",
       "    }\n",
       "</style>\n",
       "<table border=\"1\" class=\"dataframe\">\n",
       "  <thead>\n",
       "    <tr style=\"text-align: right;\">\n",
       "      <th></th>\n",
       "      <th>ano_de_fabricacao</th>\n",
       "      <th>hodometro</th>\n",
       "      <th>cambio</th>\n",
       "      <th>num_portas</th>\n",
       "      <th>veiculo_único_dono</th>\n",
       "      <th>ipva_pago</th>\n",
       "      <th>veiculo_licenciado</th>\n",
       "      <th>garantia_de_fábrica</th>\n",
       "      <th>motor</th>\n",
       "      <th>cor_encoded</th>\n",
       "      <th>modelo_encoded</th>\n",
       "      <th>marca_encoded</th>\n",
       "      <th>tipo_encoded</th>\n",
       "    </tr>\n",
       "  </thead>\n",
       "  <tbody>\n",
       "    <tr>\n",
       "      <th>0</th>\n",
       "      <td>2017</td>\n",
       "      <td>67772.00</td>\n",
       "      <td>5</td>\n",
       "      <td>4</td>\n",
       "      <td>0</td>\n",
       "      <td>0</td>\n",
       "      <td>0</td>\n",
       "      <td>0</td>\n",
       "      <td>1.60</td>\n",
       "      <td>121041.60</td>\n",
       "      <td>93763.91</td>\n",
       "      <td>107733.08</td>\n",
       "      <td>113992.95</td>\n",
       "    </tr>\n",
       "    <tr>\n",
       "      <th>1</th>\n",
       "      <td>2017</td>\n",
       "      <td>62979.00</td>\n",
       "      <td>2</td>\n",
       "      <td>4</td>\n",
       "      <td>0</td>\n",
       "      <td>0</td>\n",
       "      <td>1</td>\n",
       "      <td>0</td>\n",
       "      <td>2.00</td>\n",
       "      <td>121041.60</td>\n",
       "      <td>147889.65</td>\n",
       "      <td>137299.37</td>\n",
       "      <td>113992.95</td>\n",
       "    </tr>\n",
       "    <tr>\n",
       "      <th>2</th>\n",
       "      <td>2018</td>\n",
       "      <td>44070.00</td>\n",
       "      <td>2</td>\n",
       "      <td>4</td>\n",
       "      <td>0</td>\n",
       "      <td>1</td>\n",
       "      <td>1</td>\n",
       "      <td>0</td>\n",
       "      <td>2.40</td>\n",
       "      <td>112332.94</td>\n",
       "      <td>121376.57</td>\n",
       "      <td>119267.68</td>\n",
       "      <td>113992.95</td>\n",
       "    </tr>\n",
       "    <tr>\n",
       "      <th>3</th>\n",
       "      <td>2013</td>\n",
       "      <td>85357.00</td>\n",
       "      <td>2</td>\n",
       "      <td>4</td>\n",
       "      <td>0</td>\n",
       "      <td>0</td>\n",
       "      <td>0</td>\n",
       "      <td>0</td>\n",
       "      <td>2.00</td>\n",
       "      <td>121041.60</td>\n",
       "      <td>169545.02</td>\n",
       "      <td>113510.32</td>\n",
       "      <td>136736.98</td>\n",
       "    </tr>\n",
       "    <tr>\n",
       "      <th>4</th>\n",
       "      <td>2013</td>\n",
       "      <td>71491.00</td>\n",
       "      <td>2</td>\n",
       "      <td>4</td>\n",
       "      <td>0</td>\n",
       "      <td>1</td>\n",
       "      <td>1</td>\n",
       "      <td>1</td>\n",
       "      <td>2.00</td>\n",
       "      <td>112332.94</td>\n",
       "      <td>84982.20</td>\n",
       "      <td>84982.20</td>\n",
       "      <td>191050.19</td>\n",
       "    </tr>\n",
       "  </tbody>\n",
       "</table>\n",
       "</div>"
      ],
      "text/plain": [
       "   ano_de_fabricacao  hodometro  cambio  num_portas  veiculo_único_dono  \\\n",
       "0               2017   67772.00       5           4                   0   \n",
       "1               2017   62979.00       2           4                   0   \n",
       "2               2018   44070.00       2           4                   0   \n",
       "3               2013   85357.00       2           4                   0   \n",
       "4               2013   71491.00       2           4                   0   \n",
       "\n",
       "   ipva_pago  veiculo_licenciado  garantia_de_fábrica  motor  cor_encoded  \\\n",
       "0          0                   0                    0   1.60    121041.60   \n",
       "1          0                   1                    0   2.00    121041.60   \n",
       "2          1                   1                    0   2.40    112332.94   \n",
       "3          0                   0                    0   2.00    121041.60   \n",
       "4          1                   1                    1   2.00    112332.94   \n",
       "\n",
       "   modelo_encoded  marca_encoded  tipo_encoded  \n",
       "0        93763.91      107733.08     113992.95  \n",
       "1       147889.65      137299.37     113992.95  \n",
       "2       121376.57      119267.68     113992.95  \n",
       "3       169545.02      113510.32     136736.98  \n",
       "4        84982.20       84982.20     191050.19  "
      ]
     },
     "execution_count": 36,
     "metadata": {},
     "output_type": "execute_result"
    }
   ],
   "source": [
    "# Verificando as variáveis preditoras\n",
    "X.head()"
   ]
  },
  {
   "cell_type": "code",
   "execution_count": 37,
   "id": "374bbb24",
   "metadata": {},
   "outputs": [
    {
     "data": {
      "text/html": [
       "<div>\n",
       "<style scoped>\n",
       "    .dataframe tbody tr th:only-of-type {\n",
       "        vertical-align: middle;\n",
       "    }\n",
       "\n",
       "    .dataframe tbody tr th {\n",
       "        vertical-align: top;\n",
       "    }\n",
       "\n",
       "    .dataframe thead th {\n",
       "        text-align: right;\n",
       "    }\n",
       "</style>\n",
       "<table border=\"1\" class=\"dataframe\">\n",
       "  <thead>\n",
       "    <tr style=\"text-align: right;\">\n",
       "      <th></th>\n",
       "      <th>preco</th>\n",
       "    </tr>\n",
       "  </thead>\n",
       "  <tbody>\n",
       "    <tr>\n",
       "      <th>0</th>\n",
       "      <td>74732.59</td>\n",
       "    </tr>\n",
       "    <tr>\n",
       "      <th>1</th>\n",
       "      <td>81965.33</td>\n",
       "    </tr>\n",
       "    <tr>\n",
       "      <th>2</th>\n",
       "      <td>162824.81</td>\n",
       "    </tr>\n",
       "    <tr>\n",
       "      <th>3</th>\n",
       "      <td>123681.36</td>\n",
       "    </tr>\n",
       "    <tr>\n",
       "      <th>4</th>\n",
       "      <td>82419.76</td>\n",
       "    </tr>\n",
       "  </tbody>\n",
       "</table>\n",
       "</div>"
      ],
      "text/plain": [
       "      preco\n",
       "0  74732.59\n",
       "1  81965.33\n",
       "2 162824.81\n",
       "3 123681.36\n",
       "4  82419.76"
      ]
     },
     "execution_count": 37,
     "metadata": {},
     "output_type": "execute_result"
    }
   ],
   "source": [
    "# Verificando a variável target\n",
    "y.head()"
   ]
  },
  {
   "cell_type": "markdown",
   "id": "0f4cc049",
   "metadata": {},
   "source": [
    "## <a id='4.'></a> 4. Separação de Bases\n",
    "\n",
    "Separando as bases (conjuntos de treinamento e teste) antes de realizar a normalização. Isso garante que a normalização seja aplicada de forma independente aos conjuntos de treinamento e teste, evitando vazamento de informações do conjunto de teste para o conjunto de treinamento."
   ]
  },
  {
   "cell_type": "code",
   "execution_count": 38,
   "id": "5569672b",
   "metadata": {},
   "outputs": [],
   "source": [
    "# Importando a função necessária\n",
    "from sklearn.model_selection import train_test_split"
   ]
  },
  {
   "cell_type": "code",
   "execution_count": 39,
   "id": "2d4fcd8c",
   "metadata": {},
   "outputs": [],
   "source": [
    "# Separando as bases\n",
    "X_treino, X_teste, y_treino, y_teste = train_test_split(X, # preditoras \n",
    "                                                        y, # target\n",
    "                                                        test_size=.2, \n",
    "                                                        random_state=42)"
   ]
  },
  {
   "cell_type": "code",
   "execution_count": 40,
   "id": "16a57549",
   "metadata": {},
   "outputs": [
    {
     "data": {
      "text/plain": [
       "((22444, 13), (5611, 13), (22444, 1), (5611, 1))"
      ]
     },
     "execution_count": 40,
     "metadata": {},
     "output_type": "execute_result"
    }
   ],
   "source": [
    "# Vamos ver quantas linhas ficamos com treino e teste\n",
    "X_treino.shape, X_teste.shape, y_treino.shape, y_teste.shape"
   ]
  },
  {
   "cell_type": "code",
   "execution_count": 41,
   "id": "699564da",
   "metadata": {},
   "outputs": [
    {
     "data": {
      "text/plain": [
       "0.8"
      ]
     },
     "execution_count": 41,
     "metadata": {},
     "output_type": "execute_result"
    }
   ],
   "source": [
    "# Verificando se as bases foram separadas em 80% e 20%\n",
    "X_treino.shape[0] / X.shape[0]"
   ]
  },
  {
   "cell_type": "markdown",
   "id": "e5ce967b",
   "metadata": {},
   "source": [
    "## <a id='5.'></a> 5. Feature Scaling\n",
    "\n",
    "Como usaremos pelo menos um modelo linear, é importante realizar scaling das features para mantê-las numa mesma escala de grandeza. Vamos de MinMaxScaler."
   ]
  },
  {
   "cell_type": "code",
   "execution_count": 42,
   "id": "d6408d2e",
   "metadata": {},
   "outputs": [
    {
     "data": {
      "text/plain": [
       "sklearn.preprocessing._data.MinMaxScaler"
      ]
     },
     "execution_count": 42,
     "metadata": {},
     "output_type": "execute_result"
    }
   ],
   "source": [
    "# Importando biblioteca:\n",
    "from sklearn.preprocessing import MinMaxScaler\n",
    "\n",
    "# Criando Scaler:\n",
    "scaler = MinMaxScaler()\n",
    "type(scaler)"
   ]
  },
  {
   "cell_type": "code",
   "execution_count": 43,
   "id": "13e61e6a",
   "metadata": {},
   "outputs": [
    {
     "data": {
      "text/plain": [
       "((22444, 13), (5611, 13))"
      ]
     },
     "execution_count": 43,
     "metadata": {},
     "output_type": "execute_result"
    }
   ],
   "source": [
    "# Executando o scaling com fit:\n",
    "colunas = X_treino.columns\n",
    "\n",
    "X_treino[colunas] = scaler.fit_transform(X_treino)\n",
    "X_teste[colunas] = scaler.transform(X_teste)\n",
    "\n",
    "X_treino.shape, X_teste.shape"
   ]
  },
  {
   "cell_type": "code",
   "execution_count": 44,
   "id": "483b7ec1",
   "metadata": {},
   "outputs": [
    {
     "data": {
      "text/html": [
       "<div>\n",
       "<style scoped>\n",
       "    .dataframe tbody tr th:only-of-type {\n",
       "        vertical-align: middle;\n",
       "    }\n",
       "\n",
       "    .dataframe tbody tr th {\n",
       "        vertical-align: top;\n",
       "    }\n",
       "\n",
       "    .dataframe thead th {\n",
       "        text-align: right;\n",
       "    }\n",
       "</style>\n",
       "<table border=\"1\" class=\"dataframe\">\n",
       "  <thead>\n",
       "    <tr style=\"text-align: right;\">\n",
       "      <th></th>\n",
       "      <th>ano_de_fabricacao</th>\n",
       "      <th>hodometro</th>\n",
       "      <th>cambio</th>\n",
       "      <th>num_portas</th>\n",
       "      <th>veiculo_único_dono</th>\n",
       "      <th>ipva_pago</th>\n",
       "      <th>veiculo_licenciado</th>\n",
       "      <th>garantia_de_fábrica</th>\n",
       "      <th>motor</th>\n",
       "      <th>cor_encoded</th>\n",
       "      <th>modelo_encoded</th>\n",
       "      <th>marca_encoded</th>\n",
       "      <th>tipo_encoded</th>\n",
       "    </tr>\n",
       "  </thead>\n",
       "  <tbody>\n",
       "    <tr>\n",
       "      <th>count</th>\n",
       "      <td>22444.00</td>\n",
       "      <td>22444.00</td>\n",
       "      <td>22444.00</td>\n",
       "      <td>22444.00</td>\n",
       "      <td>22444.00</td>\n",
       "      <td>22444.00</td>\n",
       "      <td>22444.00</td>\n",
       "      <td>22444.00</td>\n",
       "      <td>22444.00</td>\n",
       "      <td>22444.00</td>\n",
       "      <td>22444.00</td>\n",
       "      <td>22444.00</td>\n",
       "      <td>22444.00</td>\n",
       "    </tr>\n",
       "    <tr>\n",
       "      <th>mean</th>\n",
       "      <td>0.86</td>\n",
       "      <td>0.15</td>\n",
       "      <td>0.31</td>\n",
       "      <td>0.97</td>\n",
       "      <td>0.35</td>\n",
       "      <td>0.33</td>\n",
       "      <td>0.46</td>\n",
       "      <td>0.14</td>\n",
       "      <td>0.21</td>\n",
       "      <td>0.54</td>\n",
       "      <td>0.38</td>\n",
       "      <td>0.41</td>\n",
       "      <td>0.40</td>\n",
       "    </tr>\n",
       "    <tr>\n",
       "      <th>std</th>\n",
       "      <td>0.11</td>\n",
       "      <td>0.08</td>\n",
       "      <td>0.19</td>\n",
       "      <td>0.16</td>\n",
       "      <td>0.48</td>\n",
       "      <td>0.47</td>\n",
       "      <td>0.50</td>\n",
       "      <td>0.34</td>\n",
       "      <td>0.11</td>\n",
       "      <td>0.12</td>\n",
       "      <td>0.15</td>\n",
       "      <td>0.14</td>\n",
       "      <td>0.19</td>\n",
       "    </tr>\n",
       "    <tr>\n",
       "      <th>min</th>\n",
       "      <td>0.00</td>\n",
       "      <td>0.00</td>\n",
       "      <td>0.00</td>\n",
       "      <td>0.00</td>\n",
       "      <td>0.00</td>\n",
       "      <td>0.00</td>\n",
       "      <td>0.00</td>\n",
       "      <td>0.00</td>\n",
       "      <td>0.00</td>\n",
       "      <td>0.00</td>\n",
       "      <td>0.00</td>\n",
       "      <td>0.00</td>\n",
       "      <td>0.00</td>\n",
       "    </tr>\n",
       "    <tr>\n",
       "      <th>25%</th>\n",
       "      <td>0.81</td>\n",
       "      <td>0.08</td>\n",
       "      <td>0.33</td>\n",
       "      <td>1.00</td>\n",
       "      <td>0.00</td>\n",
       "      <td>0.00</td>\n",
       "      <td>0.00</td>\n",
       "      <td>0.00</td>\n",
       "      <td>0.15</td>\n",
       "      <td>0.54</td>\n",
       "      <td>0.25</td>\n",
       "      <td>0.30</td>\n",
       "      <td>0.35</td>\n",
       "    </tr>\n",
       "    <tr>\n",
       "      <th>50%</th>\n",
       "      <td>0.89</td>\n",
       "      <td>0.15</td>\n",
       "      <td>0.33</td>\n",
       "      <td>1.00</td>\n",
       "      <td>0.00</td>\n",
       "      <td>0.00</td>\n",
       "      <td>0.00</td>\n",
       "      <td>0.00</td>\n",
       "      <td>0.20</td>\n",
       "      <td>0.54</td>\n",
       "      <td>0.38</td>\n",
       "      <td>0.37</td>\n",
       "      <td>0.35</td>\n",
       "    </tr>\n",
       "    <tr>\n",
       "      <th>75%</th>\n",
       "      <td>0.92</td>\n",
       "      <td>0.21</td>\n",
       "      <td>0.33</td>\n",
       "      <td>1.00</td>\n",
       "      <td>1.00</td>\n",
       "      <td>1.00</td>\n",
       "      <td>1.00</td>\n",
       "      <td>0.00</td>\n",
       "      <td>0.23</td>\n",
       "      <td>0.54</td>\n",
       "      <td>0.48</td>\n",
       "      <td>0.49</td>\n",
       "      <td>0.35</td>\n",
       "    </tr>\n",
       "    <tr>\n",
       "      <th>max</th>\n",
       "      <td>1.00</td>\n",
       "      <td>1.00</td>\n",
       "      <td>1.00</td>\n",
       "      <td>1.00</td>\n",
       "      <td>1.00</td>\n",
       "      <td>1.00</td>\n",
       "      <td>1.00</td>\n",
       "      <td>1.00</td>\n",
       "      <td>1.00</td>\n",
       "      <td>1.00</td>\n",
       "      <td>1.00</td>\n",
       "      <td>1.00</td>\n",
       "      <td>1.00</td>\n",
       "    </tr>\n",
       "  </tbody>\n",
       "</table>\n",
       "</div>"
      ],
      "text/plain": [
       "       ano_de_fabricacao  hodometro   cambio  num_portas  veiculo_único_dono  \\\n",
       "count           22444.00   22444.00 22444.00    22444.00            22444.00   \n",
       "mean                0.86       0.15     0.31        0.97                0.35   \n",
       "std                 0.11       0.08     0.19        0.16                0.48   \n",
       "min                 0.00       0.00     0.00        0.00                0.00   \n",
       "25%                 0.81       0.08     0.33        1.00                0.00   \n",
       "50%                 0.89       0.15     0.33        1.00                0.00   \n",
       "75%                 0.92       0.21     0.33        1.00                1.00   \n",
       "max                 1.00       1.00     1.00        1.00                1.00   \n",
       "\n",
       "       ipva_pago  veiculo_licenciado  garantia_de_fábrica    motor  \\\n",
       "count   22444.00            22444.00             22444.00 22444.00   \n",
       "mean        0.33                0.46                 0.14     0.21   \n",
       "std         0.47                0.50                 0.34     0.11   \n",
       "min         0.00                0.00                 0.00     0.00   \n",
       "25%         0.00                0.00                 0.00     0.15   \n",
       "50%         0.00                0.00                 0.00     0.20   \n",
       "75%         1.00                1.00                 0.00     0.23   \n",
       "max         1.00                1.00                 1.00     1.00   \n",
       "\n",
       "       cor_encoded  modelo_encoded  marca_encoded  tipo_encoded  \n",
       "count     22444.00        22444.00       22444.00      22444.00  \n",
       "mean          0.54            0.38           0.41          0.40  \n",
       "std           0.12            0.15           0.14          0.19  \n",
       "min           0.00            0.00           0.00          0.00  \n",
       "25%           0.54            0.25           0.30          0.35  \n",
       "50%           0.54            0.38           0.37          0.35  \n",
       "75%           0.54            0.48           0.49          0.35  \n",
       "max           1.00            1.00           1.00          1.00  "
      ]
     },
     "execution_count": 44,
     "metadata": {},
     "output_type": "execute_result"
    }
   ],
   "source": [
    "# Verificando o X_treino:\n",
    "X_treino.describe()"
   ]
  },
  {
   "cell_type": "code",
   "execution_count": 45,
   "id": "70c6adf9",
   "metadata": {},
   "outputs": [
    {
     "data": {
      "text/html": [
       "<div>\n",
       "<style scoped>\n",
       "    .dataframe tbody tr th:only-of-type {\n",
       "        vertical-align: middle;\n",
       "    }\n",
       "\n",
       "    .dataframe tbody tr th {\n",
       "        vertical-align: top;\n",
       "    }\n",
       "\n",
       "    .dataframe thead th {\n",
       "        text-align: right;\n",
       "    }\n",
       "</style>\n",
       "<table border=\"1\" class=\"dataframe\">\n",
       "  <thead>\n",
       "    <tr style=\"text-align: right;\">\n",
       "      <th></th>\n",
       "      <th>ano_de_fabricacao</th>\n",
       "      <th>hodometro</th>\n",
       "      <th>cambio</th>\n",
       "      <th>num_portas</th>\n",
       "      <th>veiculo_único_dono</th>\n",
       "      <th>ipva_pago</th>\n",
       "      <th>veiculo_licenciado</th>\n",
       "      <th>garantia_de_fábrica</th>\n",
       "      <th>motor</th>\n",
       "      <th>cor_encoded</th>\n",
       "      <th>modelo_encoded</th>\n",
       "      <th>marca_encoded</th>\n",
       "      <th>tipo_encoded</th>\n",
       "    </tr>\n",
       "  </thead>\n",
       "  <tbody>\n",
       "    <tr>\n",
       "      <th>count</th>\n",
       "      <td>5611.00</td>\n",
       "      <td>5611.00</td>\n",
       "      <td>5611.00</td>\n",
       "      <td>5611.00</td>\n",
       "      <td>5611.00</td>\n",
       "      <td>5611.00</td>\n",
       "      <td>5611.00</td>\n",
       "      <td>5611.00</td>\n",
       "      <td>5611.00</td>\n",
       "      <td>5611.00</td>\n",
       "      <td>5611.00</td>\n",
       "      <td>5611.00</td>\n",
       "      <td>5611.00</td>\n",
       "    </tr>\n",
       "    <tr>\n",
       "      <th>mean</th>\n",
       "      <td>0.86</td>\n",
       "      <td>0.15</td>\n",
       "      <td>0.31</td>\n",
       "      <td>0.97</td>\n",
       "      <td>0.36</td>\n",
       "      <td>0.33</td>\n",
       "      <td>0.45</td>\n",
       "      <td>0.15</td>\n",
       "      <td>0.21</td>\n",
       "      <td>0.54</td>\n",
       "      <td>0.38</td>\n",
       "      <td>0.41</td>\n",
       "      <td>0.41</td>\n",
       "    </tr>\n",
       "    <tr>\n",
       "      <th>std</th>\n",
       "      <td>0.11</td>\n",
       "      <td>0.08</td>\n",
       "      <td>0.19</td>\n",
       "      <td>0.16</td>\n",
       "      <td>0.48</td>\n",
       "      <td>0.47</td>\n",
       "      <td>0.50</td>\n",
       "      <td>0.36</td>\n",
       "      <td>0.11</td>\n",
       "      <td>0.12</td>\n",
       "      <td>0.16</td>\n",
       "      <td>0.14</td>\n",
       "      <td>0.19</td>\n",
       "    </tr>\n",
       "    <tr>\n",
       "      <th>min</th>\n",
       "      <td>0.16</td>\n",
       "      <td>0.00</td>\n",
       "      <td>0.00</td>\n",
       "      <td>0.00</td>\n",
       "      <td>0.00</td>\n",
       "      <td>0.00</td>\n",
       "      <td>0.00</td>\n",
       "      <td>0.00</td>\n",
       "      <td>0.00</td>\n",
       "      <td>-0.04</td>\n",
       "      <td>0.05</td>\n",
       "      <td>0.11</td>\n",
       "      <td>0.01</td>\n",
       "    </tr>\n",
       "    <tr>\n",
       "      <th>25%</th>\n",
       "      <td>0.81</td>\n",
       "      <td>0.08</td>\n",
       "      <td>0.33</td>\n",
       "      <td>1.00</td>\n",
       "      <td>0.00</td>\n",
       "      <td>0.00</td>\n",
       "      <td>0.00</td>\n",
       "      <td>0.00</td>\n",
       "      <td>0.15</td>\n",
       "      <td>0.54</td>\n",
       "      <td>0.25</td>\n",
       "      <td>0.30</td>\n",
       "      <td>0.35</td>\n",
       "    </tr>\n",
       "    <tr>\n",
       "      <th>50%</th>\n",
       "      <td>0.89</td>\n",
       "      <td>0.15</td>\n",
       "      <td>0.33</td>\n",
       "      <td>1.00</td>\n",
       "      <td>0.00</td>\n",
       "      <td>0.00</td>\n",
       "      <td>0.00</td>\n",
       "      <td>0.00</td>\n",
       "      <td>0.20</td>\n",
       "      <td>0.54</td>\n",
       "      <td>0.38</td>\n",
       "      <td>0.37</td>\n",
       "      <td>0.35</td>\n",
       "    </tr>\n",
       "    <tr>\n",
       "      <th>75%</th>\n",
       "      <td>0.92</td>\n",
       "      <td>0.21</td>\n",
       "      <td>0.33</td>\n",
       "      <td>1.00</td>\n",
       "      <td>1.00</td>\n",
       "      <td>1.00</td>\n",
       "      <td>1.00</td>\n",
       "      <td>0.00</td>\n",
       "      <td>0.23</td>\n",
       "      <td>0.54</td>\n",
       "      <td>0.48</td>\n",
       "      <td>0.49</td>\n",
       "      <td>0.52</td>\n",
       "    </tr>\n",
       "    <tr>\n",
       "      <th>max</th>\n",
       "      <td>1.00</td>\n",
       "      <td>0.57</td>\n",
       "      <td>1.00</td>\n",
       "      <td>1.00</td>\n",
       "      <td>1.00</td>\n",
       "      <td>1.00</td>\n",
       "      <td>1.00</td>\n",
       "      <td>1.00</td>\n",
       "      <td>1.00</td>\n",
       "      <td>1.00</td>\n",
       "      <td>0.94</td>\n",
       "      <td>1.00</td>\n",
       "      <td>1.00</td>\n",
       "    </tr>\n",
       "  </tbody>\n",
       "</table>\n",
       "</div>"
      ],
      "text/plain": [
       "       ano_de_fabricacao  hodometro  cambio  num_portas  veiculo_único_dono  \\\n",
       "count            5611.00    5611.00 5611.00     5611.00             5611.00   \n",
       "mean                0.86       0.15    0.31        0.97                0.36   \n",
       "std                 0.11       0.08    0.19        0.16                0.48   \n",
       "min                 0.16       0.00    0.00        0.00                0.00   \n",
       "25%                 0.81       0.08    0.33        1.00                0.00   \n",
       "50%                 0.89       0.15    0.33        1.00                0.00   \n",
       "75%                 0.92       0.21    0.33        1.00                1.00   \n",
       "max                 1.00       0.57    1.00        1.00                1.00   \n",
       "\n",
       "       ipva_pago  veiculo_licenciado  garantia_de_fábrica   motor  \\\n",
       "count    5611.00             5611.00              5611.00 5611.00   \n",
       "mean        0.33                0.45                 0.15    0.21   \n",
       "std         0.47                0.50                 0.36    0.11   \n",
       "min         0.00                0.00                 0.00    0.00   \n",
       "25%         0.00                0.00                 0.00    0.15   \n",
       "50%         0.00                0.00                 0.00    0.20   \n",
       "75%         1.00                1.00                 0.00    0.23   \n",
       "max         1.00                1.00                 1.00    1.00   \n",
       "\n",
       "       cor_encoded  modelo_encoded  marca_encoded  tipo_encoded  \n",
       "count      5611.00         5611.00        5611.00       5611.00  \n",
       "mean          0.54            0.38           0.41          0.41  \n",
       "std           0.12            0.16           0.14          0.19  \n",
       "min          -0.04            0.05           0.11          0.01  \n",
       "25%           0.54            0.25           0.30          0.35  \n",
       "50%           0.54            0.38           0.37          0.35  \n",
       "75%           0.54            0.48           0.49          0.52  \n",
       "max           1.00            0.94           1.00          1.00  "
      ]
     },
     "execution_count": 45,
     "metadata": {},
     "output_type": "execute_result"
    }
   ],
   "source": [
    "# Verificando o X_teste:\n",
    "X_teste.describe()"
   ]
  },
  {
   "cell_type": "markdown",
   "id": "6843e126",
   "metadata": {},
   "source": [
    "## <a id='6.'></a> 6. Analisando a Correlação Entre as Variáveis\n",
    "\n",
    "Quando utilizamos modelos lineares, é importante saber se as variáveis preditoras guardam alguma colinearidade. Caso ocorra, devemos remover uma das variáveis para que o modelo não seja afetado."
   ]
  },
  {
   "cell_type": "code",
   "execution_count": 46,
   "id": "cbed0f7b",
   "metadata": {},
   "outputs": [
    {
     "data": {
      "text/plain": [
       "<AxesSubplot:>"
      ]
     },
     "execution_count": 46,
     "metadata": {},
     "output_type": "execute_result"
    },
    {
     "data": {
      "image/png": "[encoded data removed]",
      "text/plain": [
       "<Figure size 1000x800 with 2 Axes>"
      ]
     },
     "metadata": {},
     "output_type": "display_data"
    }
   ],
   "source": [
    "# Criando Gráfico\n",
    "import seaborn as sns\n",
    "import numpy as np\n",
    "\n",
    "figura, graficos = plt.subplots(figsize=(10, 8))\n",
    "corr = df_cars.corr()\n",
    "sns.heatmap(corr, mask=np.zeros_like(corr, dtype=bool), \n",
    "            square=True, ax=graficos)"
   ]
  },
  {
   "cell_type": "markdown",
   "id": "f719e2e7",
   "metadata": {},
   "source": [
    "## <a id='7.'></a>7. PYCARET\n",
    "\n",
    "Iremos utilizar o PYCARET para ver algumas possibilidades de modelos"
   ]
  },
  {
   "cell_type": "code",
   "execution_count": 47,
   "id": "3b0c9694",
   "metadata": {},
   "outputs": [
    {
     "data": {
      "text/html": [
       "<style type=\"text/css\">\n",
       "#T_eeb6c_row8_col1 {\n",
       "  background-color: lightgreen;\n",
       "}\n",
       "</style>\n",
       "<table id=\"T_eeb6c\">\n",
       "  <thead>\n",
       "    <tr>\n",
       "      <th class=\"blank level0\" >&nbsp;</th>\n",
       "      <th id=\"T_eeb6c_level0_col0\" class=\"col_heading level0 col0\" >Description</th>\n",
       "      <th id=\"T_eeb6c_level0_col1\" class=\"col_heading level0 col1\" >Value</th>\n",
       "    </tr>\n",
       "  </thead>\n",
       "  <tbody>\n",
       "    <tr>\n",
       "      <th id=\"T_eeb6c_level0_row0\" class=\"row_heading level0 row0\" >0</th>\n",
       "      <td id=\"T_eeb6c_row0_col0\" class=\"data row0 col0\" >Session id</td>\n",
       "      <td id=\"T_eeb6c_row0_col1\" class=\"data row0 col1\" >8928</td>\n",
       "    </tr>\n",
       "    <tr>\n",
       "      <th id=\"T_eeb6c_level0_row1\" class=\"row_heading level0 row1\" >1</th>\n",
       "      <td id=\"T_eeb6c_row1_col0\" class=\"data row1 col0\" >Target</td>\n",
       "      <td id=\"T_eeb6c_row1_col1\" class=\"data row1 col1\" >preco</td>\n",
       "    </tr>\n",
       "    <tr>\n",
       "      <th id=\"T_eeb6c_level0_row2\" class=\"row_heading level0 row2\" >2</th>\n",
       "      <td id=\"T_eeb6c_row2_col0\" class=\"data row2 col0\" >Target type</td>\n",
       "      <td id=\"T_eeb6c_row2_col1\" class=\"data row2 col1\" >Regression</td>\n",
       "    </tr>\n",
       "    <tr>\n",
       "      <th id=\"T_eeb6c_level0_row3\" class=\"row_heading level0 row3\" >3</th>\n",
       "      <td id=\"T_eeb6c_row3_col0\" class=\"data row3 col0\" >Original data shape</td>\n",
       "      <td id=\"T_eeb6c_row3_col1\" class=\"data row3 col1\" >(28055, 14)</td>\n",
       "    </tr>\n",
       "    <tr>\n",
       "      <th id=\"T_eeb6c_level0_row4\" class=\"row_heading level0 row4\" >4</th>\n",
       "      <td id=\"T_eeb6c_row4_col0\" class=\"data row4 col0\" >Transformed data shape</td>\n",
       "      <td id=\"T_eeb6c_row4_col1\" class=\"data row4 col1\" >(28055, 14)</td>\n",
       "    </tr>\n",
       "    <tr>\n",
       "      <th id=\"T_eeb6c_level0_row5\" class=\"row_heading level0 row5\" >5</th>\n",
       "      <td id=\"T_eeb6c_row5_col0\" class=\"data row5 col0\" >Transformed train set shape</td>\n",
       "      <td id=\"T_eeb6c_row5_col1\" class=\"data row5 col1\" >(19638, 14)</td>\n",
       "    </tr>\n",
       "    <tr>\n",
       "      <th id=\"T_eeb6c_level0_row6\" class=\"row_heading level0 row6\" >6</th>\n",
       "      <td id=\"T_eeb6c_row6_col0\" class=\"data row6 col0\" >Transformed test set shape</td>\n",
       "      <td id=\"T_eeb6c_row6_col1\" class=\"data row6 col1\" >(8417, 14)</td>\n",
       "    </tr>\n",
       "    <tr>\n",
       "      <th id=\"T_eeb6c_level0_row7\" class=\"row_heading level0 row7\" >7</th>\n",
       "      <td id=\"T_eeb6c_row7_col0\" class=\"data row7 col0\" >Numeric features</td>\n",
       "      <td id=\"T_eeb6c_row7_col1\" class=\"data row7 col1\" >13</td>\n",
       "    </tr>\n",
       "    <tr>\n",
       "      <th id=\"T_eeb6c_level0_row8\" class=\"row_heading level0 row8\" >8</th>\n",
       "      <td id=\"T_eeb6c_row8_col0\" class=\"data row8 col0\" >Preprocess</td>\n",
       "      <td id=\"T_eeb6c_row8_col1\" class=\"data row8 col1\" >True</td>\n",
       "    </tr>\n",
       "    <tr>\n",
       "      <th id=\"T_eeb6c_level0_row9\" class=\"row_heading level0 row9\" >9</th>\n",
       "      <td id=\"T_eeb6c_row9_col0\" class=\"data row9 col0\" >Imputation type</td>\n",
       "      <td id=\"T_eeb6c_row9_col1\" class=\"data row9 col1\" >simple</td>\n",
       "    </tr>\n",
       "    <tr>\n",
       "      <th id=\"T_eeb6c_level0_row10\" class=\"row_heading level0 row10\" >10</th>\n",
       "      <td id=\"T_eeb6c_row10_col0\" class=\"data row10 col0\" >Numeric imputation</td>\n",
       "      <td id=\"T_eeb6c_row10_col1\" class=\"data row10 col1\" >mean</td>\n",
       "    </tr>\n",
       "    <tr>\n",
       "      <th id=\"T_eeb6c_level0_row11\" class=\"row_heading level0 row11\" >11</th>\n",
       "      <td id=\"T_eeb6c_row11_col0\" class=\"data row11 col0\" >Categorical imputation</td>\n",
       "      <td id=\"T_eeb6c_row11_col1\" class=\"data row11 col1\" >mode</td>\n",
       "    </tr>\n",
       "    <tr>\n",
       "      <th id=\"T_eeb6c_level0_row12\" class=\"row_heading level0 row12\" >12</th>\n",
       "      <td id=\"T_eeb6c_row12_col0\" class=\"data row12 col0\" >Fold Generator</td>\n",
       "      <td id=\"T_eeb6c_row12_col1\" class=\"data row12 col1\" >KFold</td>\n",
       "    </tr>\n",
       "    <tr>\n",
       "      <th id=\"T_eeb6c_level0_row13\" class=\"row_heading level0 row13\" >13</th>\n",
       "      <td id=\"T_eeb6c_row13_col0\" class=\"data row13 col0\" >Fold Number</td>\n",
       "      <td id=\"T_eeb6c_row13_col1\" class=\"data row13 col1\" >10</td>\n",
       "    </tr>\n",
       "    <tr>\n",
       "      <th id=\"T_eeb6c_level0_row14\" class=\"row_heading level0 row14\" >14</th>\n",
       "      <td id=\"T_eeb6c_row14_col0\" class=\"data row14 col0\" >CPU Jobs</td>\n",
       "      <td id=\"T_eeb6c_row14_col1\" class=\"data row14 col1\" >-1</td>\n",
       "    </tr>\n",
       "    <tr>\n",
       "      <th id=\"T_eeb6c_level0_row15\" class=\"row_heading level0 row15\" >15</th>\n",
       "      <td id=\"T_eeb6c_row15_col0\" class=\"data row15 col0\" >Use GPU</td>\n",
       "      <td id=\"T_eeb6c_row15_col1\" class=\"data row15 col1\" >False</td>\n",
       "    </tr>\n",
       "    <tr>\n",
       "      <th id=\"T_eeb6c_level0_row16\" class=\"row_heading level0 row16\" >16</th>\n",
       "      <td id=\"T_eeb6c_row16_col0\" class=\"data row16 col0\" >Log Experiment</td>\n",
       "      <td id=\"T_eeb6c_row16_col1\" class=\"data row16 col1\" >False</td>\n",
       "    </tr>\n",
       "    <tr>\n",
       "      <th id=\"T_eeb6c_level0_row17\" class=\"row_heading level0 row17\" >17</th>\n",
       "      <td id=\"T_eeb6c_row17_col0\" class=\"data row17 col0\" >Experiment Name</td>\n",
       "      <td id=\"T_eeb6c_row17_col1\" class=\"data row17 col1\" >reg-default-name</td>\n",
       "    </tr>\n",
       "    <tr>\n",
       "      <th id=\"T_eeb6c_level0_row18\" class=\"row_heading level0 row18\" >18</th>\n",
       "      <td id=\"T_eeb6c_row18_col0\" class=\"data row18 col0\" >USI</td>\n",
       "      <td id=\"T_eeb6c_row18_col1\" class=\"data row18 col1\" >aa44</td>\n",
       "    </tr>\n",
       "  </tbody>\n",
       "</table>\n"
      ],
      "text/plain": [
       "<pandas.io.formats.style.Styler at 0x1db6924fcd0>"
      ]
     },
     "metadata": {},
     "output_type": "display_data"
    }
   ],
   "source": [
    "# Importando função necessária\n",
    "from pycaret.regression import *\n",
    "\n",
    "# Configurarando o ambiente de regressão do PyCaret\n",
    "exp_reg = setup(data=df_cars, target='preco')"
   ]
  },
  {
   "cell_type": "code",
   "execution_count": 48,
   "id": "80350740",
   "metadata": {},
   "outputs": [
    {
     "data": {
      "text/html": [],
      "text/plain": [
       "<IPython.core.display.HTML object>"
      ]
     },
     "metadata": {},
     "output_type": "display_data"
    },
    {
     "data": {
      "text/html": [
       "<style type=\"text/css\">\n",
       "#T_21146 th {\n",
       "  text-align: left;\n",
       "}\n",
       "#T_21146_row0_col0, #T_21146_row1_col0, #T_21146_row1_col1, #T_21146_row1_col2, #T_21146_row1_col3, #T_21146_row1_col4, #T_21146_row1_col5, #T_21146_row1_col6, #T_21146_row2_col0, #T_21146_row2_col1, #T_21146_row2_col2, #T_21146_row2_col3, #T_21146_row2_col4, #T_21146_row2_col5, #T_21146_row2_col6, #T_21146_row3_col0, #T_21146_row3_col1, #T_21146_row3_col2, #T_21146_row3_col3, #T_21146_row3_col4, #T_21146_row3_col5, #T_21146_row3_col6, #T_21146_row4_col0, #T_21146_row4_col1, #T_21146_row4_col2, #T_21146_row4_col3, #T_21146_row4_col4, #T_21146_row4_col5, #T_21146_row4_col6, #T_21146_row5_col0, #T_21146_row5_col1, #T_21146_row5_col2, #T_21146_row5_col3, #T_21146_row5_col4, #T_21146_row5_col5, #T_21146_row5_col6, #T_21146_row6_col0, #T_21146_row6_col1, #T_21146_row6_col2, #T_21146_row6_col3, #T_21146_row6_col4, #T_21146_row6_col5, #T_21146_row6_col6, #T_21146_row7_col0, #T_21146_row7_col1, #T_21146_row7_col2, #T_21146_row7_col3, #T_21146_row7_col4, #T_21146_row7_col5, #T_21146_row7_col6, #T_21146_row8_col0, #T_21146_row8_col1, #T_21146_row8_col2, #T_21146_row8_col3, #T_21146_row8_col4, #T_21146_row8_col5, #T_21146_row8_col6, #T_21146_row9_col0, #T_21146_row9_col1, #T_21146_row9_col2, #T_21146_row9_col3, #T_21146_row9_col4, #T_21146_row9_col5, #T_21146_row9_col6, #T_21146_row10_col0, #T_21146_row10_col1, #T_21146_row10_col2, #T_21146_row10_col3, #T_21146_row10_col4, #T_21146_row10_col5, #T_21146_row10_col6, #T_21146_row11_col0, #T_21146_row11_col1, #T_21146_row11_col2, #T_21146_row11_col3, #T_21146_row11_col4, #T_21146_row11_col5, #T_21146_row11_col6, #T_21146_row12_col0, #T_21146_row12_col1, #T_21146_row12_col2, #T_21146_row12_col3, #T_21146_row12_col4, #T_21146_row12_col5, #T_21146_row12_col6, #T_21146_row13_col0, #T_21146_row13_col1, #T_21146_row13_col2, #T_21146_row13_col3, #T_21146_row13_col4, #T_21146_row13_col5, #T_21146_row13_col6, #T_21146_row14_col0, #T_21146_row14_col1, #T_21146_row14_col2, #T_21146_row14_col3, #T_21146_row14_col4, #T_21146_row14_col5, #T_21146_row14_col6, #T_21146_row15_col0, #T_21146_row15_col1, #T_21146_row15_col2, #T_21146_row15_col3, #T_21146_row15_col4, #T_21146_row15_col5, #T_21146_row15_col6, #T_21146_row16_col0, #T_21146_row16_col1, #T_21146_row16_col2, #T_21146_row16_col3, #T_21146_row16_col4, #T_21146_row16_col5, #T_21146_row16_col6, #T_21146_row17_col0, #T_21146_row17_col1, #T_21146_row17_col2, #T_21146_row17_col3, #T_21146_row17_col4, #T_21146_row17_col5, #T_21146_row17_col6, #T_21146_row18_col0, #T_21146_row18_col1, #T_21146_row18_col2, #T_21146_row18_col3, #T_21146_row18_col4, #T_21146_row18_col5, #T_21146_row18_col6 {\n",
       "  text-align: left;\n",
       "}\n",
       "#T_21146_row0_col1, #T_21146_row0_col2, #T_21146_row0_col3, #T_21146_row0_col4, #T_21146_row0_col5, #T_21146_row0_col6 {\n",
       "  text-align: left;\n",
       "  background-color: yellow;\n",
       "}\n",
       "#T_21146_row0_col7, #T_21146_row1_col7, #T_21146_row2_col7, #T_21146_row3_col7, #T_21146_row4_col7, #T_21146_row5_col7, #T_21146_row6_col7, #T_21146_row7_col7, #T_21146_row8_col7, #T_21146_row9_col7, #T_21146_row11_col7, #T_21146_row12_col7, #T_21146_row13_col7, #T_21146_row14_col7, #T_21146_row16_col7, #T_21146_row17_col7, #T_21146_row18_col7 {\n",
       "  text-align: left;\n",
       "  background-color: lightgrey;\n",
       "}\n",
       "#T_21146_row10_col7, #T_21146_row15_col7 {\n",
       "  text-align: left;\n",
       "  background-color: yellow;\n",
       "  background-color: lightgrey;\n",
       "}\n",
       "</style>\n",
       "<table id=\"T_21146\">\n",
       "  <thead>\n",
       "    <tr>\n",
       "      <th class=\"blank level0\" >&nbsp;</th>\n",
       "      <th id=\"T_21146_level0_col0\" class=\"col_heading level0 col0\" >Model</th>\n",
       "      <th id=\"T_21146_level0_col1\" class=\"col_heading level0 col1\" >MAE</th>\n",
       "      <th id=\"T_21146_level0_col2\" class=\"col_heading level0 col2\" >MSE</th>\n",
       "      <th id=\"T_21146_level0_col3\" class=\"col_heading level0 col3\" >RMSE</th>\n",
       "      <th id=\"T_21146_level0_col4\" class=\"col_heading level0 col4\" >R2</th>\n",
       "      <th id=\"T_21146_level0_col5\" class=\"col_heading level0 col5\" >RMSLE</th>\n",
       "      <th id=\"T_21146_level0_col6\" class=\"col_heading level0 col6\" >MAPE</th>\n",
       "      <th id=\"T_21146_level0_col7\" class=\"col_heading level0 col7\" >TT (Sec)</th>\n",
       "    </tr>\n",
       "  </thead>\n",
       "  <tbody>\n",
       "    <tr>\n",
       "      <th id=\"T_21146_level0_row0\" class=\"row_heading level0 row0\" >lightgbm</th>\n",
       "      <td id=\"T_21146_row0_col0\" class=\"data row0 col0\" >Light Gradient Boosting Machine</td>\n",
       "      <td id=\"T_21146_row0_col1\" class=\"data row0 col1\" >22512.5571</td>\n",
       "      <td id=\"T_21146_row0_col2\" class=\"data row0 col2\" >884166559.7603</td>\n",
       "      <td id=\"T_21146_row0_col3\" class=\"data row0 col3\" >29728.9945</td>\n",
       "      <td id=\"T_21146_row0_col4\" class=\"data row0 col4\" >0.7427</td>\n",
       "      <td id=\"T_21146_row0_col5\" class=\"data row0 col5\" >0.2685</td>\n",
       "      <td id=\"T_21146_row0_col6\" class=\"data row0 col6\" >0.2209</td>\n",
       "      <td id=\"T_21146_row0_col7\" class=\"data row0 col7\" >0.2000</td>\n",
       "    </tr>\n",
       "    <tr>\n",
       "      <th id=\"T_21146_level0_row1\" class=\"row_heading level0 row1\" >xgboost</th>\n",
       "      <td id=\"T_21146_row1_col0\" class=\"data row1 col0\" >Extreme Gradient Boosting</td>\n",
       "      <td id=\"T_21146_row1_col1\" class=\"data row1 col1\" >22673.1350</td>\n",
       "      <td id=\"T_21146_row1_col2\" class=\"data row1 col2\" >904103942.4000</td>\n",
       "      <td id=\"T_21146_row1_col3\" class=\"data row1 col3\" >30061.8293</td>\n",
       "      <td id=\"T_21146_row1_col4\" class=\"data row1 col4\" >0.7369</td>\n",
       "      <td id=\"T_21146_row1_col5\" class=\"data row1 col5\" >0.2709</td>\n",
       "      <td id=\"T_21146_row1_col6\" class=\"data row1 col6\" >0.2215</td>\n",
       "      <td id=\"T_21146_row1_col7\" class=\"data row1 col7\" >0.8480</td>\n",
       "    </tr>\n",
       "    <tr>\n",
       "      <th id=\"T_21146_level0_row2\" class=\"row_heading level0 row2\" >rf</th>\n",
       "      <td id=\"T_21146_row2_col0\" class=\"data row2 col0\" >Random Forest Regressor</td>\n",
       "      <td id=\"T_21146_row2_col1\" class=\"data row2 col1\" >23415.5219</td>\n",
       "      <td id=\"T_21146_row2_col2\" class=\"data row2 col2\" >974108890.4920</td>\n",
       "      <td id=\"T_21146_row2_col3\" class=\"data row2 col3\" >31205.3134</td>\n",
       "      <td id=\"T_21146_row2_col4\" class=\"data row2 col4\" >0.7164</td>\n",
       "      <td id=\"T_21146_row2_col5\" class=\"data row2 col5\" >0.2789</td>\n",
       "      <td id=\"T_21146_row2_col6\" class=\"data row2 col6\" >0.2275</td>\n",
       "      <td id=\"T_21146_row2_col7\" class=\"data row2 col7\" >2.0490</td>\n",
       "    </tr>\n",
       "    <tr>\n",
       "      <th id=\"T_21146_level0_row3\" class=\"row_heading level0 row3\" >gbr</th>\n",
       "      <td id=\"T_21146_row3_col0\" class=\"data row3 col0\" >Gradient Boosting Regressor</td>\n",
       "      <td id=\"T_21146_row3_col1\" class=\"data row3 col1\" >24038.7572</td>\n",
       "      <td id=\"T_21146_row3_col2\" class=\"data row3 col2\" >989853862.0607</td>\n",
       "      <td id=\"T_21146_row3_col3\" class=\"data row3 col3\" >31454.6364</td>\n",
       "      <td id=\"T_21146_row3_col4\" class=\"data row3 col4\" >0.7121</td>\n",
       "      <td id=\"T_21146_row3_col5\" class=\"data row3 col5\" >0.2845</td>\n",
       "      <td id=\"T_21146_row3_col6\" class=\"data row3 col6\" >0.2380</td>\n",
       "      <td id=\"T_21146_row3_col7\" class=\"data row3 col7\" >0.7650</td>\n",
       "    </tr>\n",
       "    <tr>\n",
       "      <th id=\"T_21146_level0_row4\" class=\"row_heading level0 row4\" >et</th>\n",
       "      <td id=\"T_21146_row4_col0\" class=\"data row4 col0\" >Extra Trees Regressor</td>\n",
       "      <td id=\"T_21146_row4_col1\" class=\"data row4 col1\" >25098.7163</td>\n",
       "      <td id=\"T_21146_row4_col2\" class=\"data row4 col2\" >1130424756.7220</td>\n",
       "      <td id=\"T_21146_row4_col3\" class=\"data row4 col3\" >33617.7653</td>\n",
       "      <td id=\"T_21146_row4_col4\" class=\"data row4 col4\" >0.6710</td>\n",
       "      <td id=\"T_21146_row4_col5\" class=\"data row4 col5\" >0.2976</td>\n",
       "      <td id=\"T_21146_row4_col6\" class=\"data row4 col6\" >0.2413</td>\n",
       "      <td id=\"T_21146_row4_col7\" class=\"data row4 col7\" >1.9500</td>\n",
       "    </tr>\n",
       "    <tr>\n",
       "      <th id=\"T_21146_level0_row5\" class=\"row_heading level0 row5\" >knn</th>\n",
       "      <td id=\"T_21146_row5_col0\" class=\"data row5 col0\" >K Neighbors Regressor</td>\n",
       "      <td id=\"T_21146_row5_col1\" class=\"data row5 col1\" >26706.6363</td>\n",
       "      <td id=\"T_21146_row5_col2\" class=\"data row5 col2\" >1234672115.2000</td>\n",
       "      <td id=\"T_21146_row5_col3\" class=\"data row5 col3\" >35130.8383</td>\n",
       "      <td id=\"T_21146_row5_col4\" class=\"data row5 col4\" >0.6404</td>\n",
       "      <td id=\"T_21146_row5_col5\" class=\"data row5 col5\" >0.3163</td>\n",
       "      <td id=\"T_21146_row5_col6\" class=\"data row5 col6\" >0.2639</td>\n",
       "      <td id=\"T_21146_row5_col7\" class=\"data row5 col7\" >0.0460</td>\n",
       "    </tr>\n",
       "    <tr>\n",
       "      <th id=\"T_21146_level0_row6\" class=\"row_heading level0 row6\" >ridge</th>\n",
       "      <td id=\"T_21146_row6_col0\" class=\"data row6 col0\" >Ridge Regression</td>\n",
       "      <td id=\"T_21146_row6_col1\" class=\"data row6 col1\" >28131.6809</td>\n",
       "      <td id=\"T_21146_row6_col2\" class=\"data row6 col2\" >1311251356.3554</td>\n",
       "      <td id=\"T_21146_row6_col3\" class=\"data row6 col3\" >36202.4461</td>\n",
       "      <td id=\"T_21146_row6_col4\" class=\"data row6 col4\" >0.6186</td>\n",
       "      <td id=\"T_21146_row6_col5\" class=\"data row6 col5\" >0.3749</td>\n",
       "      <td id=\"T_21146_row6_col6\" class=\"data row6 col6\" >0.2865</td>\n",
       "      <td id=\"T_21146_row6_col7\" class=\"data row6 col7\" >0.0300</td>\n",
       "    </tr>\n",
       "    <tr>\n",
       "      <th id=\"T_21146_level0_row7\" class=\"row_heading level0 row7\" >lar</th>\n",
       "      <td id=\"T_21146_row7_col0\" class=\"data row7 col0\" >Least Angle Regression</td>\n",
       "      <td id=\"T_21146_row7_col1\" class=\"data row7 col1\" >28131.6534</td>\n",
       "      <td id=\"T_21146_row7_col2\" class=\"data row7 col2\" >1311251937.9368</td>\n",
       "      <td id=\"T_21146_row7_col3\" class=\"data row7 col3\" >36202.4540</td>\n",
       "      <td id=\"T_21146_row7_col4\" class=\"data row7 col4\" >0.6186</td>\n",
       "      <td id=\"T_21146_row7_col5\" class=\"data row7 col5\" >0.3749</td>\n",
       "      <td id=\"T_21146_row7_col6\" class=\"data row7 col6\" >0.2865</td>\n",
       "      <td id=\"T_21146_row7_col7\" class=\"data row7 col7\" >0.0250</td>\n",
       "    </tr>\n",
       "    <tr>\n",
       "      <th id=\"T_21146_level0_row8\" class=\"row_heading level0 row8\" >lasso</th>\n",
       "      <td id=\"T_21146_row8_col0\" class=\"data row8 col0\" >Lasso Regression</td>\n",
       "      <td id=\"T_21146_row8_col1\" class=\"data row8 col1\" >28131.7726</td>\n",
       "      <td id=\"T_21146_row8_col2\" class=\"data row8 col2\" >1311251878.0204</td>\n",
       "      <td id=\"T_21146_row8_col3\" class=\"data row8 col3\" >36202.4542</td>\n",
       "      <td id=\"T_21146_row8_col4\" class=\"data row8 col4\" >0.6186</td>\n",
       "      <td id=\"T_21146_row8_col5\" class=\"data row8 col5\" >0.3750</td>\n",
       "      <td id=\"T_21146_row8_col6\" class=\"data row8 col6\" >0.2865</td>\n",
       "      <td id=\"T_21146_row8_col7\" class=\"data row8 col7\" >0.0410</td>\n",
       "    </tr>\n",
       "    <tr>\n",
       "      <th id=\"T_21146_level0_row9\" class=\"row_heading level0 row9\" >lr</th>\n",
       "      <td id=\"T_21146_row9_col0\" class=\"data row9 col0\" >Linear Regression</td>\n",
       "      <td id=\"T_21146_row9_col1\" class=\"data row9 col1\" >28131.6534</td>\n",
       "      <td id=\"T_21146_row9_col2\" class=\"data row9 col2\" >1311251937.9368</td>\n",
       "      <td id=\"T_21146_row9_col3\" class=\"data row9 col3\" >36202.4540</td>\n",
       "      <td id=\"T_21146_row9_col4\" class=\"data row9 col4\" >0.6186</td>\n",
       "      <td id=\"T_21146_row9_col5\" class=\"data row9 col5\" >0.3749</td>\n",
       "      <td id=\"T_21146_row9_col6\" class=\"data row9 col6\" >0.2865</td>\n",
       "      <td id=\"T_21146_row9_col7\" class=\"data row9 col7\" >1.3690</td>\n",
       "    </tr>\n",
       "    <tr>\n",
       "      <th id=\"T_21146_level0_row10\" class=\"row_heading level0 row10\" >llar</th>\n",
       "      <td id=\"T_21146_row10_col0\" class=\"data row10 col0\" >Lasso Least Angle Regression</td>\n",
       "      <td id=\"T_21146_row10_col1\" class=\"data row10 col1\" >28138.2894</td>\n",
       "      <td id=\"T_21146_row10_col2\" class=\"data row10 col2\" >1311484361.8629</td>\n",
       "      <td id=\"T_21146_row10_col3\" class=\"data row10 col3\" >36205.6824</td>\n",
       "      <td id=\"T_21146_row10_col4\" class=\"data row10 col4\" >0.6185</td>\n",
       "      <td id=\"T_21146_row10_col5\" class=\"data row10 col5\" >0.3705</td>\n",
       "      <td id=\"T_21146_row10_col6\" class=\"data row10 col6\" >0.2865</td>\n",
       "      <td id=\"T_21146_row10_col7\" class=\"data row10 col7\" >0.0240</td>\n",
       "    </tr>\n",
       "    <tr>\n",
       "      <th id=\"T_21146_level0_row11\" class=\"row_heading level0 row11\" >en</th>\n",
       "      <td id=\"T_21146_row11_col0\" class=\"data row11 col0\" >Elastic Net</td>\n",
       "      <td id=\"T_21146_row11_col1\" class=\"data row11 col1\" >28353.8094</td>\n",
       "      <td id=\"T_21146_row11_col2\" class=\"data row11 col2\" >1324353925.3186</td>\n",
       "      <td id=\"T_21146_row11_col3\" class=\"data row11 col3\" >36383.3693</td>\n",
       "      <td id=\"T_21146_row11_col4\" class=\"data row11 col4\" >0.6148</td>\n",
       "      <td id=\"T_21146_row11_col5\" class=\"data row11 col5\" >0.3809</td>\n",
       "      <td id=\"T_21146_row11_col6\" class=\"data row11 col6\" >0.2889</td>\n",
       "      <td id=\"T_21146_row11_col7\" class=\"data row11 col7\" >0.0390</td>\n",
       "    </tr>\n",
       "    <tr>\n",
       "      <th id=\"T_21146_level0_row12\" class=\"row_heading level0 row12\" >br</th>\n",
       "      <td id=\"T_21146_row12_col0\" class=\"data row12 col0\" >Bayesian Ridge</td>\n",
       "      <td id=\"T_21146_row12_col1\" class=\"data row12 col1\" >28739.3580</td>\n",
       "      <td id=\"T_21146_row12_col2\" class=\"data row12 col2\" >1362303097.2153</td>\n",
       "      <td id=\"T_21146_row12_col3\" class=\"data row12 col3\" >36901.5561</td>\n",
       "      <td id=\"T_21146_row12_col4\" class=\"data row12 col4\" >0.6037</td>\n",
       "      <td id=\"T_21146_row12_col5\" class=\"data row12 col5\" >0.3589</td>\n",
       "      <td id=\"T_21146_row12_col6\" class=\"data row12 col6\" >0.2922</td>\n",
       "      <td id=\"T_21146_row12_col7\" class=\"data row12 col7\" >0.0270</td>\n",
       "    </tr>\n",
       "    <tr>\n",
       "      <th id=\"T_21146_level0_row13\" class=\"row_heading level0 row13\" >huber</th>\n",
       "      <td id=\"T_21146_row13_col0\" class=\"data row13 col0\" >Huber Regressor</td>\n",
       "      <td id=\"T_21146_row13_col1\" class=\"data row13 col1\" >28513.8172</td>\n",
       "      <td id=\"T_21146_row13_col2\" class=\"data row13 col2\" >1383908357.2129</td>\n",
       "      <td id=\"T_21146_row13_col3\" class=\"data row13 col3\" >37191.9404</td>\n",
       "      <td id=\"T_21146_row13_col4\" class=\"data row13 col4\" >0.5974</td>\n",
       "      <td id=\"T_21146_row13_col5\" class=\"data row13 col5\" >0.3560</td>\n",
       "      <td id=\"T_21146_row13_col6\" class=\"data row13 col6\" >0.2804</td>\n",
       "      <td id=\"T_21146_row13_col7\" class=\"data row13 col7\" >0.1000</td>\n",
       "    </tr>\n",
       "    <tr>\n",
       "      <th id=\"T_21146_level0_row14\" class=\"row_heading level0 row14\" >ada</th>\n",
       "      <td id=\"T_21146_row14_col0\" class=\"data row14 col0\" >AdaBoost Regressor</td>\n",
       "      <td id=\"T_21146_row14_col1\" class=\"data row14 col1\" >32594.6031</td>\n",
       "      <td id=\"T_21146_row14_col2\" class=\"data row14 col2\" >1543711909.8105</td>\n",
       "      <td id=\"T_21146_row14_col3\" class=\"data row14 col3\" >39279.8809</td>\n",
       "      <td id=\"T_21146_row14_col4\" class=\"data row14 col4\" >0.5506</td>\n",
       "      <td id=\"T_21146_row14_col5\" class=\"data row14 col5\" >0.3903</td>\n",
       "      <td id=\"T_21146_row14_col6\" class=\"data row14 col6\" >0.3847</td>\n",
       "      <td id=\"T_21146_row14_col7\" class=\"data row14 col7\" >0.3140</td>\n",
       "    </tr>\n",
       "    <tr>\n",
       "      <th id=\"T_21146_level0_row15\" class=\"row_heading level0 row15\" >omp</th>\n",
       "      <td id=\"T_21146_row15_col0\" class=\"data row15 col0\" >Orthogonal Matching Pursuit</td>\n",
       "      <td id=\"T_21146_row15_col1\" class=\"data row15 col1\" >31470.9829</td>\n",
       "      <td id=\"T_21146_row15_col2\" class=\"data row15 col2\" >1713254714.7831</td>\n",
       "      <td id=\"T_21146_row15_col3\" class=\"data row15 col3\" >41383.4226</td>\n",
       "      <td id=\"T_21146_row15_col4\" class=\"data row15 col4\" >0.5016</td>\n",
       "      <td id=\"T_21146_row15_col5\" class=\"data row15 col5\" >0.3635</td>\n",
       "      <td id=\"T_21146_row15_col6\" class=\"data row15 col6\" >0.3211</td>\n",
       "      <td id=\"T_21146_row15_col7\" class=\"data row15 col7\" >0.0240</td>\n",
       "    </tr>\n",
       "    <tr>\n",
       "      <th id=\"T_21146_level0_row16\" class=\"row_heading level0 row16\" >dt</th>\n",
       "      <td id=\"T_21146_row16_col0\" class=\"data row16 col0\" >Decision Tree Regressor</td>\n",
       "      <td id=\"T_21146_row16_col1\" class=\"data row16 col1\" >30997.2182</td>\n",
       "      <td id=\"T_21146_row16_col2\" class=\"data row16 col2\" >1746410390.9006</td>\n",
       "      <td id=\"T_21146_row16_col3\" class=\"data row16 col3\" >41784.8290</td>\n",
       "      <td id=\"T_21146_row16_col4\" class=\"data row16 col4\" >0.4913</td>\n",
       "      <td id=\"T_21146_row16_col5\" class=\"data row16 col5\" >0.3694</td>\n",
       "      <td id=\"T_21146_row16_col6\" class=\"data row16 col6\" >0.2975</td>\n",
       "      <td id=\"T_21146_row16_col7\" class=\"data row16 col7\" >0.0440</td>\n",
       "    </tr>\n",
       "    <tr>\n",
       "      <th id=\"T_21146_level0_row17\" class=\"row_heading level0 row17\" >par</th>\n",
       "      <td id=\"T_21146_row17_col0\" class=\"data row17 col0\" >Passive Aggressive Regressor</td>\n",
       "      <td id=\"T_21146_row17_col1\" class=\"data row17 col1\" >42971.9233</td>\n",
       "      <td id=\"T_21146_row17_col2\" class=\"data row17 col2\" >2810709078.9877</td>\n",
       "      <td id=\"T_21146_row17_col3\" class=\"data row17 col3\" >51956.3110</td>\n",
       "      <td id=\"T_21146_row17_col4\" class=\"data row17 col4\" >0.1910</td>\n",
       "      <td id=\"T_21146_row17_col5\" class=\"data row17 col5\" >0.5476</td>\n",
       "      <td id=\"T_21146_row17_col6\" class=\"data row17 col6\" >0.4643</td>\n",
       "      <td id=\"T_21146_row17_col7\" class=\"data row17 col7\" >0.0290</td>\n",
       "    </tr>\n",
       "    <tr>\n",
       "      <th id=\"T_21146_level0_row18\" class=\"row_heading level0 row18\" >dummy</th>\n",
       "      <td id=\"T_21146_row18_col0\" class=\"data row18 col0\" >Dummy Regressor</td>\n",
       "      <td id=\"T_21146_row18_col1\" class=\"data row18 col1\" >47364.0566</td>\n",
       "      <td id=\"T_21146_row18_col2\" class=\"data row18 col2\" >3443252915.2000</td>\n",
       "      <td id=\"T_21146_row18_col3\" class=\"data row18 col3\" >58663.7258</td>\n",
       "      <td id=\"T_21146_row18_col4\" class=\"data row18 col4\" >-0.0009</td>\n",
       "      <td id=\"T_21146_row18_col5\" class=\"data row18 col5\" >0.5248</td>\n",
       "      <td id=\"T_21146_row18_col6\" class=\"data row18 col6\" >0.5319</td>\n",
       "      <td id=\"T_21146_row18_col7\" class=\"data row18 col7\" >0.0280</td>\n",
       "    </tr>\n",
       "  </tbody>\n",
       "</table>\n"
      ],
      "text/plain": [
       "<pandas.io.formats.style.Styler at 0x1db68d77700>"
      ]
     },
     "metadata": {},
     "output_type": "display_data"
    },
    {
     "data": {
      "application/vnd.jupyter.widget-view+json": {
       "model_id": "",
       "version_major": 2,
       "version_minor": 0
      },
      "text/plain": [
       "Processing:   0%|          | 0/81 [00:00<?, ?it/s]"
      ]
     },
     "metadata": {},
     "output_type": "display_data"
    }
   ],
   "source": [
    "# Comparando modelos\n",
    "best_model = compare_models()"
   ]
  },
  {
   "cell_type": "markdown",
   "id": "7b25f0d1",
   "metadata": {},
   "source": [
    "Vamos treinar quatro modelos em nossa base de treino para avaliar seu desempenho. Selecionaremos os três modelos que obtiveram melhor desempenho no PYCARET, além da Regressão Linear, mesmo que aparentemente não tenha apresentado um bom desempenho."
   ]
  },
  {
   "cell_type": "markdown",
   "id": "d1fd25fb",
   "metadata": {},
   "source": [
    "## <a id='8.'></a>8. Machine Learning\n",
    "\n",
    "Vamos utilizar **cross validation** em todos os modelos"
   ]
  },
  {
   "cell_type": "code",
   "execution_count": 49,
   "id": "87e2d0e5",
   "metadata": {},
   "outputs": [],
   "source": [
    "# Importando cross val score\n",
    "from sklearn.model_selection import cross_val_score"
   ]
  },
  {
   "cell_type": "markdown",
   "id": "5e4887c0",
   "metadata": {},
   "source": [
    "### <a id='8.1.'></a>8.1. Regressão Linear"
   ]
  },
  {
   "cell_type": "code",
   "execution_count": 50,
   "id": "de2a1bb5",
   "metadata": {},
   "outputs": [
    {
     "name": "stdout",
     "output_type": "stream",
     "text": [
      "Erro Médio Quadrático Médio (MSE) médio: 1311486152.894277\n"
     ]
    }
   ],
   "source": [
    "# Importando as funções necessárias\n",
    "from sklearn.linear_model import LinearRegression\n",
    "import numpy as np\n",
    "\n",
    "# Criando estimador\n",
    "modelo_regressao_linear = LinearRegression()\n",
    "\n",
    "# Treinando usando cross validation:\n",
    "scores_regressao_linear = cross_val_score(modelo_regressao_linear, X_treino, y_treino, cv=10, scoring='neg_mean_squared_error')\n",
    "\n",
    "# Calculando a média dos MSEs negativos\n",
    "mse_regressao_linear = -np.mean(scores_regressao_linear)\n",
    "print(\"Erro Médio Quadrático Médio (MSE) médio:\", mse_regressao_linear)"
   ]
  },
  {
   "cell_type": "markdown",
   "id": "1746610d",
   "metadata": {},
   "source": [
    "### <a id='8.2.'></a>8.2. LGBM"
   ]
  },
  {
   "cell_type": "code",
   "execution_count": 51,
   "id": "c669eae5",
   "metadata": {},
   "outputs": [
    {
     "name": "stdout",
     "output_type": "stream",
     "text": [
      "[LightGBM] [Info] Auto-choosing row-wise multi-threading, the overhead of testing was 0.002195 seconds.\n",
      "You can set `force_row_wise=true` to remove the overhead.\n",
      "And if memory is not enough, you can set `force_col_wise=true`.\n",
      "[LightGBM] [Info] Total Bins 613\n",
      "[LightGBM] [Info] Number of data points in the train set: 20199, number of used features: 13\n",
      "[LightGBM] [Info] Start training from score 120244.689648\n",
      "[LightGBM] [Info] Auto-choosing row-wise multi-threading, the overhead of testing was 0.002523 seconds.\n",
      "You can set `force_row_wise=true` to remove the overhead.\n",
      "And if memory is not enough, you can set `force_col_wise=true`.\n",
      "[LightGBM] [Info] Total Bins 617\n",
      "[LightGBM] [Info] Number of data points in the train set: 20199, number of used features: 13\n",
      "[LightGBM] [Info] Start training from score 120230.953696\n",
      "[LightGBM] [Info] Auto-choosing row-wise multi-threading, the overhead of testing was 0.001569 seconds.\n",
      "You can set `force_row_wise=true` to remove the overhead.\n",
      "And if memory is not enough, you can set `force_col_wise=true`.\n",
      "[LightGBM] [Info] Total Bins 618\n",
      "[LightGBM] [Info] Number of data points in the train set: 20199, number of used features: 13\n",
      "[LightGBM] [Info] Start training from score 120441.153206\n",
      "[LightGBM] [Info] Auto-choosing row-wise multi-threading, the overhead of testing was 0.001275 seconds.\n",
      "You can set `force_row_wise=true` to remove the overhead.\n",
      "And if memory is not enough, you can set `force_col_wise=true`.\n",
      "[LightGBM] [Info] Total Bins 619\n",
      "[LightGBM] [Info] Number of data points in the train set: 20199, number of used features: 13\n",
      "[LightGBM] [Info] Start training from score 120276.674010\n",
      "[LightGBM] [Info] Auto-choosing row-wise multi-threading, the overhead of testing was 0.001237 seconds.\n",
      "You can set `force_row_wise=true` to remove the overhead.\n",
      "And if memory is not enough, you can set `force_col_wise=true`.\n",
      "[LightGBM] [Info] Total Bins 619\n",
      "[LightGBM] [Info] Number of data points in the train set: 20200, number of used features: 13\n",
      "[LightGBM] [Info] Start training from score 120345.522422\n",
      "[LightGBM] [Info] Auto-choosing row-wise multi-threading, the overhead of testing was 0.001130 seconds.\n",
      "You can set `force_row_wise=true` to remove the overhead.\n",
      "And if memory is not enough, you can set `force_col_wise=true`.\n",
      "[LightGBM] [Info] Total Bins 618\n",
      "[LightGBM] [Info] Number of data points in the train set: 20200, number of used features: 13\n",
      "[LightGBM] [Info] Start training from score 120324.630295\n",
      "[LightGBM] [Info] Auto-choosing row-wise multi-threading, the overhead of testing was 0.000737 seconds.\n",
      "You can set `force_row_wise=true` to remove the overhead.\n",
      "And if memory is not enough, you can set `force_col_wise=true`.\n",
      "[LightGBM] [Info] Total Bins 617\n",
      "[LightGBM] [Info] Number of data points in the train set: 20200, number of used features: 13\n",
      "[LightGBM] [Info] Start training from score 120255.399840\n",
      "[LightGBM] [Info] Auto-choosing row-wise multi-threading, the overhead of testing was 0.000995 seconds.\n",
      "You can set `force_row_wise=true` to remove the overhead.\n",
      "And if memory is not enough, you can set `force_col_wise=true`.\n",
      "[LightGBM] [Info] Total Bins 615\n",
      "[LightGBM] [Info] Number of data points in the train set: 20200, number of used features: 13\n",
      "[LightGBM] [Info] Start training from score 120569.727798\n",
      "[LightGBM] [Info] Auto-choosing row-wise multi-threading, the overhead of testing was 0.000957 seconds.\n",
      "You can set `force_row_wise=true` to remove the overhead.\n",
      "And if memory is not enough, you can set `force_col_wise=true`.\n",
      "[LightGBM] [Info] Total Bins 619\n",
      "[LightGBM] [Info] Number of data points in the train set: 20200, number of used features: 13\n",
      "[LightGBM] [Info] Start training from score 120169.758500\n",
      "[LightGBM] [Info] Auto-choosing row-wise multi-threading, the overhead of testing was 0.000745 seconds.\n",
      "You can set `force_row_wise=true` to remove the overhead.\n",
      "And if memory is not enough, you can set `force_col_wise=true`.\n",
      "[LightGBM] [Info] Total Bins 618\n",
      "[LightGBM] [Info] Number of data points in the train set: 20200, number of used features: 13\n",
      "[LightGBM] [Info] Start training from score 120274.862074\n",
      "Erro Médio Quadrático Médio (MSE) médio: 886241315.1355026\n"
     ]
    }
   ],
   "source": [
    "from lightgbm import LGBMRegressor\n",
    "\n",
    "# Criando o modelo LightGBM\n",
    "modelo_lightgbm = LGBMRegressor()\n",
    "\n",
    "# Treinando usando cross validation:\n",
    "scores_lightgbm = cross_val_score(modelo_lightgbm, X_treino, y_treino, cv=10, scoring='neg_mean_squared_error')\n",
    "\n",
    "# Calculando a média dos MSEs negativos\n",
    "mse_lightgbm = -np.mean(scores_lightgbm)\n",
    "print(\"Erro Médio Quadrático Médio (MSE) médio:\", mse_lightgbm)"
   ]
  },
  {
   "cell_type": "markdown",
   "id": "e6ee55f6",
   "metadata": {},
   "source": [
    "### <a id='8.3.'></a>8.3. XGboost"
   ]
  },
  {
   "cell_type": "code",
   "execution_count": 52,
   "id": "0db75782",
   "metadata": {},
   "outputs": [
    {
     "name": "stdout",
     "output_type": "stream",
     "text": [
      "Erro Médio Quadrático Médio (MSE) médio com XGBoost: 901318711.250005\n"
     ]
    }
   ],
   "source": [
    "import xgboost as xgb\n",
    "\n",
    "# Criando o modelo XGBoost\n",
    "modelo_xgboost = xgb.XGBRegressor()\n",
    "\n",
    "# Treinando usando cross validation:\n",
    "scores_xgboost = cross_val_score(modelo_xgboost, X_treino, y_treino, cv=10, scoring='neg_mean_squared_error')\n",
    "\n",
    "# Calculando a média dos MSEs negativos\n",
    "mse_xgboost = -np.mean(scores_xgboost)\n",
    "print(\"Erro Médio Quadrático Médio (MSE) médio com XGBoost:\", mse_xgboost)"
   ]
  },
  {
   "cell_type": "markdown",
   "id": "049a9378",
   "metadata": {},
   "source": [
    "### <a id='8.4.'></a>8.4. Random Forest"
   ]
  },
  {
   "cell_type": "code",
   "execution_count": 53,
   "id": "6e7034c1",
   "metadata": {},
   "outputs": [
    {
     "name": "stdout",
     "output_type": "stream",
     "text": [
      "Erro Médio Quadrático Médio (MSE) médio com Random Forest: 969297656.6797987\n"
     ]
    }
   ],
   "source": [
    "from sklearn.ensemble import RandomForestRegressor\n",
    "\n",
    "# Criando o modelo Random Forest\n",
    "modelo_random_forest = RandomForestRegressor()\n",
    "\n",
    "# Treinando usando cross validation:\n",
    "scores_random_forest = cross_val_score(modelo_random_forest, X_treino, y_treino, cv=10, scoring='neg_mean_squared_error')\n",
    "\n",
    "# Calculando a média dos MSEs negativos\n",
    "mse_random_forest = -np.mean(scores_random_forest)\n",
    "print(\"Erro Médio Quadrático Médio (MSE) médio com Random Forest:\", mse_random_forest)"
   ]
  },
  {
   "cell_type": "markdown",
   "id": "82b4e984",
   "metadata": {},
   "source": [
    "## <a id='9.'></a>9. Removendo Algumas Variaveis\n",
    "\n",
    "Analisamos o gráfico de correlação e observamos que algumas variáveis não apresentam uma forte correlação com nossa variável alvo. Vamos realizar uma análise mais detalhada usando a **correlação de Pearson** e, se necessário, remover algumas colunas. Em seguida, retestaremos os modelos (somente na base de treino, é claro)."
   ]
  },
  {
   "cell_type": "code",
   "execution_count": 54,
   "id": "9880a357",
   "metadata": {},
   "outputs": [
    {
     "name": "stdout",
     "output_type": "stream",
     "text": [
      "                     Correlação\n",
      "ano_de_fabricacao          0.29\n",
      "hodometro                 -0.34\n",
      "cambio                     0.20\n",
      "num_portas                -0.04\n",
      "veiculo_único_dono         0.13\n",
      "ipva_pago                 -0.03\n",
      "veiculo_licenciado        -0.02\n",
      "garantia_de_fábrica        0.20\n",
      "preco                      1.00\n",
      "motor                      0.36\n",
      "cor_encoded                0.23\n",
      "modelo_encoded             0.71\n",
      "marca_encoded              0.47\n",
      "tipo_encoded               0.45\n"
     ]
    }
   ],
   "source": [
    "# Calculando a correlação de Pearson entre 'preco' e todas as outras características\n",
    "correlacao = df_cars.corr()\n",
    "correlacao_target = correlacao['preco']\n",
    "\n",
    "# Criaando um DataFrame com as correlações e os valores-p\n",
    "correlacao_df = pd.DataFrame({'Correlação': correlacao_target})\n",
    "print(correlacao_df)"
   ]
  },
  {
   "cell_type": "markdown",
   "id": "8599e69e",
   "metadata": {},
   "source": [
    "As variáveis 'num_portas', 'ipva_pago' e 'veiculo_licenciado' mostraram uma correlação bastante fraca com a variável alvo. Para verificar se o desempenho melhora, vamos testar o melhor modelo excluindo essas variáveis."
   ]
  },
  {
   "cell_type": "markdown",
   "id": "4c25e0fd",
   "metadata": {},
   "source": [
    "### <a id='9.1.'></a> 9.1. LGBM Novamente"
   ]
  },
  {
   "cell_type": "code",
   "execution_count": 55,
   "id": "c9353d64",
   "metadata": {},
   "outputs": [
    {
     "name": "stdout",
     "output_type": "stream",
     "text": [
      "[LightGBM] [Info] Auto-choosing row-wise multi-threading, the overhead of testing was 0.001003 seconds.\n",
      "You can set `force_row_wise=true` to remove the overhead.\n",
      "And if memory is not enough, you can set `force_col_wise=true`.\n",
      "[LightGBM] [Info] Total Bins 606\n",
      "[LightGBM] [Info] Number of data points in the train set: 20199, number of used features: 10\n",
      "[LightGBM] [Info] Start training from score 120244.689648\n",
      "[LightGBM] [Info] Auto-choosing row-wise multi-threading, the overhead of testing was 0.000846 seconds.\n",
      "You can set `force_row_wise=true` to remove the overhead.\n",
      "And if memory is not enough, you can set `force_col_wise=true`.\n",
      "[LightGBM] [Info] Total Bins 610\n",
      "[LightGBM] [Info] Number of data points in the train set: 20199, number of used features: 10\n",
      "[LightGBM] [Info] Start training from score 120230.953696\n",
      "[LightGBM] [Info] Auto-choosing row-wise multi-threading, the overhead of testing was 0.000754 seconds.\n",
      "You can set `force_row_wise=true` to remove the overhead.\n",
      "And if memory is not enough, you can set `force_col_wise=true`.\n",
      "[LightGBM] [Info] Total Bins 611\n",
      "[LightGBM] [Info] Number of data points in the train set: 20199, number of used features: 10\n",
      "[LightGBM] [Info] Start training from score 120441.153206\n",
      "[LightGBM] [Info] Auto-choosing row-wise multi-threading, the overhead of testing was 0.001842 seconds.\n",
      "You can set `force_row_wise=true` to remove the overhead.\n",
      "And if memory is not enough, you can set `force_col_wise=true`.\n",
      "[LightGBM] [Info] Total Bins 612\n",
      "[LightGBM] [Info] Number of data points in the train set: 20199, number of used features: 10\n",
      "[LightGBM] [Info] Start training from score 120276.674010\n",
      "[LightGBM] [Info] Auto-choosing row-wise multi-threading, the overhead of testing was 0.001865 seconds.\n",
      "You can set `force_row_wise=true` to remove the overhead.\n",
      "And if memory is not enough, you can set `force_col_wise=true`.\n",
      "[LightGBM] [Info] Total Bins 612\n",
      "[LightGBM] [Info] Number of data points in the train set: 20200, number of used features: 10\n",
      "[LightGBM] [Info] Start training from score 120345.522422\n",
      "[LightGBM] [Info] Auto-choosing row-wise multi-threading, the overhead of testing was 0.002078 seconds.\n",
      "You can set `force_row_wise=true` to remove the overhead.\n",
      "And if memory is not enough, you can set `force_col_wise=true`.\n",
      "[LightGBM] [Info] Total Bins 611\n",
      "[LightGBM] [Info] Number of data points in the train set: 20200, number of used features: 10\n",
      "[LightGBM] [Info] Start training from score 120324.630295\n",
      "[LightGBM] [Info] Auto-choosing row-wise multi-threading, the overhead of testing was 0.001384 seconds.\n",
      "You can set `force_row_wise=true` to remove the overhead.\n",
      "And if memory is not enough, you can set `force_col_wise=true`.\n",
      "[LightGBM] [Info] Total Bins 610\n",
      "[LightGBM] [Info] Number of data points in the train set: 20200, number of used features: 10\n",
      "[LightGBM] [Info] Start training from score 120255.399840\n",
      "[LightGBM] [Info] Auto-choosing row-wise multi-threading, the overhead of testing was 0.001666 seconds.\n",
      "You can set `force_row_wise=true` to remove the overhead.\n",
      "And if memory is not enough, you can set `force_col_wise=true`.\n",
      "[LightGBM] [Info] Total Bins 608\n",
      "[LightGBM] [Info] Number of data points in the train set: 20200, number of used features: 10\n",
      "[LightGBM] [Info] Start training from score 120569.727798\n",
      "[LightGBM] [Info] Auto-choosing row-wise multi-threading, the overhead of testing was 0.001616 seconds.\n",
      "You can set `force_row_wise=true` to remove the overhead.\n",
      "And if memory is not enough, you can set `force_col_wise=true`.\n",
      "[LightGBM] [Info] Total Bins 612\n",
      "[LightGBM] [Info] Number of data points in the train set: 20200, number of used features: 10\n",
      "[LightGBM] [Info] Start training from score 120169.758500\n",
      "[LightGBM] [Info] Auto-choosing row-wise multi-threading, the overhead of testing was 0.001430 seconds.\n",
      "You can set `force_row_wise=true` to remove the overhead.\n",
      "And if memory is not enough, you can set `force_col_wise=true`.\n",
      "[LightGBM] [Info] Total Bins 611\n",
      "[LightGBM] [Info] Number of data points in the train set: 20200, number of used features: 10\n",
      "[LightGBM] [Info] Start training from score 120274.862074\n",
      "Erro Médio Quadrático Médio (MSE) médio: 886862890.82461\n"
     ]
    }
   ],
   "source": [
    "# Selecionando as colunas que iremos remover\n",
    "colunas_removidas = ['num_portas', 'ipva_pago', 'veiculo_licenciado',]\n",
    "\n",
    "# Treinando usando cross validation:\n",
    "scores_modelo_lightgbm_sem_colunas = cross_val_score(modelo_lightgbm, X_treino.drop(colunas_removidas, axis=1), y_treino, cv=10, scoring='neg_mean_squared_error')\n",
    "\n",
    "# Calculando a média dos MSEs negativos\n",
    "mse_lightgbm_novo = -np.mean(scores_modelo_lightgbm_sem_colunas)\n",
    "print(\"Erro Médio Quadrático Médio (MSE) médio:\", mse_lightgbm_novo)"
   ]
  },
  {
   "cell_type": "markdown",
   "id": "f83ec35f",
   "metadata": {},
   "source": [
    "**Obs:** Não tivemos melhora. Iremos usar o modelo sem a remover os dados"
   ]
  },
  {
   "cell_type": "markdown",
   "id": "e1b8966d",
   "metadata": {},
   "source": [
    "## <a id='10.'></a>10. Modelo Campeão\n",
    "\n",
    "Agora que temos um modelo campeao, vamos treinar modelo na base toda\n",
    "\n",
    "### <a id='10.1.'></a>10.1. Fit"
   ]
  },
  {
   "cell_type": "code",
   "execution_count": 56,
   "id": "4b959d58",
   "metadata": {},
   "outputs": [
    {
     "name": "stdout",
     "output_type": "stream",
     "text": [
      "[LightGBM] [Info] Auto-choosing row-wise multi-threading, the overhead of testing was 0.001416 seconds.\n",
      "You can set `force_row_wise=true` to remove the overhead.\n",
      "And if memory is not enough, you can set `force_col_wise=true`.\n",
      "[LightGBM] [Info] Total Bins 619\n",
      "[LightGBM] [Info] Number of data points in the train set: 22444, number of used features: 13\n",
      "[LightGBM] [Info] Start training from score 120313.337445\n"
     ]
    },
    {
     "data": {
      "text/plain": [
       "LGBMRegressor()"
      ]
     },
     "execution_count": 56,
     "metadata": {},
     "output_type": "execute_result"
    }
   ],
   "source": [
    "# Fitando nosso modelo\n",
    "modelo_lightgbm.fit(X_treino, y_treino)"
   ]
  },
  {
   "cell_type": "markdown",
   "id": "656487f8",
   "metadata": {},
   "source": [
    "### <a id='10.2.'></a>10.2. Predict"
   ]
  },
  {
   "cell_type": "code",
   "execution_count": 57,
   "id": "d1972d6f",
   "metadata": {},
   "outputs": [
    {
     "data": {
      "text/plain": [
       "array([ 70142.17862408,  92766.30663422, 123291.38351019, 154583.05657828,\n",
       "        64237.36229862])"
      ]
     },
     "execution_count": 57,
     "metadata": {},
     "output_type": "execute_result"
    }
   ],
   "source": [
    "# Dando predict:\n",
    "precos_preditos = modelo_lightgbm.predict(X_teste)\n",
    "precos_preditos[:5]"
   ]
  },
  {
   "cell_type": "code",
   "execution_count": 58,
   "id": "5676f331",
   "metadata": {},
   "outputs": [
    {
     "data": {
      "text/plain": [
       "5611"
      ]
     },
     "execution_count": 58,
     "metadata": {},
     "output_type": "execute_result"
    }
   ],
   "source": [
    "# Observando quantos preços foram preditos:\n",
    "len(precos_preditos)"
   ]
  },
  {
   "cell_type": "code",
   "execution_count": 59,
   "id": "2c20af3d",
   "metadata": {},
   "outputs": [
    {
     "data": {
      "text/html": [
       "<div>\n",
       "<style scoped>\n",
       "    .dataframe tbody tr th:only-of-type {\n",
       "        vertical-align: middle;\n",
       "    }\n",
       "\n",
       "    .dataframe tbody tr th {\n",
       "        vertical-align: top;\n",
       "    }\n",
       "\n",
       "    .dataframe thead th {\n",
       "        text-align: right;\n",
       "    }\n",
       "</style>\n",
       "<table border=\"1\" class=\"dataframe\">\n",
       "  <thead>\n",
       "    <tr style=\"text-align: right;\">\n",
       "      <th></th>\n",
       "      <th>predicao</th>\n",
       "      <th>real</th>\n",
       "      <th>diferenca_abs</th>\n",
       "    </tr>\n",
       "  </thead>\n",
       "  <tbody>\n",
       "    <tr>\n",
       "      <th>0</th>\n",
       "      <td>70142.18</td>\n",
       "      <td>90183.20</td>\n",
       "      <td>20041.03</td>\n",
       "    </tr>\n",
       "    <tr>\n",
       "      <th>1</th>\n",
       "      <td>92766.31</td>\n",
       "      <td>114916.43</td>\n",
       "      <td>22150.12</td>\n",
       "    </tr>\n",
       "    <tr>\n",
       "      <th>2</th>\n",
       "      <td>123291.38</td>\n",
       "      <td>153800.30</td>\n",
       "      <td>30508.92</td>\n",
       "    </tr>\n",
       "    <tr>\n",
       "      <th>3</th>\n",
       "      <td>154583.06</td>\n",
       "      <td>157670.59</td>\n",
       "      <td>3087.54</td>\n",
       "    </tr>\n",
       "    <tr>\n",
       "      <th>4</th>\n",
       "      <td>64237.36</td>\n",
       "      <td>39016.21</td>\n",
       "      <td>25221.15</td>\n",
       "    </tr>\n",
       "    <tr>\n",
       "      <th>5</th>\n",
       "      <td>84743.87</td>\n",
       "      <td>75686.44</td>\n",
       "      <td>9057.43</td>\n",
       "    </tr>\n",
       "    <tr>\n",
       "      <th>6</th>\n",
       "      <td>85804.03</td>\n",
       "      <td>88580.07</td>\n",
       "      <td>2776.04</td>\n",
       "    </tr>\n",
       "    <tr>\n",
       "      <th>7</th>\n",
       "      <td>123355.63</td>\n",
       "      <td>93268.62</td>\n",
       "      <td>30087.01</td>\n",
       "    </tr>\n",
       "    <tr>\n",
       "      <th>8</th>\n",
       "      <td>100301.85</td>\n",
       "      <td>161853.19</td>\n",
       "      <td>61551.34</td>\n",
       "    </tr>\n",
       "    <tr>\n",
       "      <th>9</th>\n",
       "      <td>243596.19</td>\n",
       "      <td>281287.85</td>\n",
       "      <td>37691.66</td>\n",
       "    </tr>\n",
       "    <tr>\n",
       "      <th>10</th>\n",
       "      <td>121566.43</td>\n",
       "      <td>69530.93</td>\n",
       "      <td>52035.50</td>\n",
       "    </tr>\n",
       "    <tr>\n",
       "      <th>11</th>\n",
       "      <td>73317.58</td>\n",
       "      <td>67199.80</td>\n",
       "      <td>6117.78</td>\n",
       "    </tr>\n",
       "    <tr>\n",
       "      <th>12</th>\n",
       "      <td>241643.77</td>\n",
       "      <td>195196.78</td>\n",
       "      <td>46446.99</td>\n",
       "    </tr>\n",
       "    <tr>\n",
       "      <th>13</th>\n",
       "      <td>232812.40</td>\n",
       "      <td>225771.95</td>\n",
       "      <td>7040.45</td>\n",
       "    </tr>\n",
       "    <tr>\n",
       "      <th>14</th>\n",
       "      <td>115636.93</td>\n",
       "      <td>126148.80</td>\n",
       "      <td>10511.87</td>\n",
       "    </tr>\n",
       "    <tr>\n",
       "      <th>15</th>\n",
       "      <td>93598.42</td>\n",
       "      <td>181501.62</td>\n",
       "      <td>87903.20</td>\n",
       "    </tr>\n",
       "    <tr>\n",
       "      <th>16</th>\n",
       "      <td>138881.44</td>\n",
       "      <td>86695.54</td>\n",
       "      <td>52185.90</td>\n",
       "    </tr>\n",
       "    <tr>\n",
       "      <th>17</th>\n",
       "      <td>131585.90</td>\n",
       "      <td>115329.49</td>\n",
       "      <td>16256.41</td>\n",
       "    </tr>\n",
       "    <tr>\n",
       "      <th>18</th>\n",
       "      <td>34411.45</td>\n",
       "      <td>26658.57</td>\n",
       "      <td>7752.88</td>\n",
       "    </tr>\n",
       "    <tr>\n",
       "      <th>19</th>\n",
       "      <td>70706.34</td>\n",
       "      <td>79980.40</td>\n",
       "      <td>9274.06</td>\n",
       "    </tr>\n",
       "  </tbody>\n",
       "</table>\n",
       "</div>"
      ],
      "text/plain": [
       "    predicao      real  diferenca_abs\n",
       "0   70142.18  90183.20       20041.03\n",
       "1   92766.31 114916.43       22150.12\n",
       "2  123291.38 153800.30       30508.92\n",
       "3  154583.06 157670.59        3087.54\n",
       "4   64237.36  39016.21       25221.15\n",
       "5   84743.87  75686.44        9057.43\n",
       "6   85804.03  88580.07        2776.04\n",
       "7  123355.63  93268.62       30087.01\n",
       "8  100301.85 161853.19       61551.34\n",
       "9  243596.19 281287.85       37691.66\n",
       "10 121566.43  69530.93       52035.50\n",
       "11  73317.58  67199.80        6117.78\n",
       "12 241643.77 195196.78       46446.99\n",
       "13 232812.40 225771.95        7040.45\n",
       "14 115636.93 126148.80       10511.87\n",
       "15  93598.42 181501.62       87903.20\n",
       "16 138881.44  86695.54       52185.90\n",
       "17 131585.90 115329.49       16256.41\n",
       "18  34411.45  26658.57        7752.88\n",
       "19  70706.34  79980.40        9274.06"
      ]
     },
     "execution_count": 59,
     "metadata": {},
     "output_type": "execute_result"
    }
   ],
   "source": [
    "# Comparando a predição com o valor real:\n",
    "predicoes_vs_real = pd.DataFrame({'predicao': precos_preditos.flatten(), 'real': y_teste.values.flatten()})\n",
    "predicoes_vs_real['diferenca_abs'] = abs(predicoes_vs_real['predicao'] - predicoes_vs_real['real'])\n",
    "predicoes_vs_real.head(20)"
   ]
  },
  {
   "cell_type": "code",
   "execution_count": 60,
   "id": "95e2f9c4",
   "metadata": {},
   "outputs": [
    {
     "data": {
      "text/plain": [
       "0.7525486069735849"
      ]
     },
     "execution_count": 60,
     "metadata": {},
     "output_type": "execute_result"
    }
   ],
   "source": [
    "# Calculando o r quadrado\n",
    "from sklearn.metrics import r2_score\n",
    "\n",
    "r2_score(y_true=y_teste, y_pred=precos_preditos)"
   ]
  },
  {
   "cell_type": "markdown",
   "id": "14f53e77",
   "metadata": {},
   "source": [
    "## <a id='11.'></a>11. Considerações Finais"
   ]
  },
  {
   "cell_type": "markdown",
   "id": "2a40d6b5",
   "metadata": {},
   "source": [
    "Após conduzir uma Análise Exploratória dos Dados detalhada, bem como o processamento e modelagem dos dados, consegui desenvolver um modelo preditivo utilizando o algoritmo LightGBM, o qual explica 75% da variabilidade em meus dados. É importante notar que embora esse modelo não seja perfeito, esse resultado inicial representa um desempenho aceitável.\n",
    "\n",
    "Estou aberto a feedbacks e aprecio qualquer contribuição que possa me ajudar a corrigir erros e melhorar o desempenho do modelo. Continuarei buscando maneiras de aprimorá-lo e buscar resultados ainda mais significativos, aproveitando o espaço para melhorias potenciais. A marca de 75% é um indicativo promissor de que estou no caminho certo, mas estou comprometido em continuar aperfeiçoando meu modelo."
   ]
  },
  {
   "cell_type": "code",
   "execution_count": null,
   "id": "21bd3099",
   "metadata": {},
   "outputs": [],
   "source": []
  }
 ],
 "metadata": {
  "kernelspec": {
   "display_name": "Python 3 (ipykernel)",
   "language": "python",
   "name": "python3"
  },
  "language_info": {
   "codemirror_mode": {
    "name": "ipython",
    "version": 3
   },
   "file_extension": ".py",
   "mimetype": "text/x-python",
   "name": "python",
   "nbconvert_exporter": "python",
   "pygments_lexer": "ipython3",
   "version": "3.9.13"
  }
 },
 "nbformat": 4,
 "nbformat_minor": 5
}
